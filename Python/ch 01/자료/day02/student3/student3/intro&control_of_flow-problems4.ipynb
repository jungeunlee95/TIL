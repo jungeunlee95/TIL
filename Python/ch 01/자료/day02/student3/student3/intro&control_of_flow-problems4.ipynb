{
 "cells": [
  {
   "cell_type": "markdown",
   "metadata": {},
   "source": [
    "## Intro&Control_of_flow-문제4\n"
   ]
  },
  {
   "cell_type": "markdown",
   "metadata": {},
   "source": [
    "### 문제1\n",
    "\n",
    ">문자열 요소로만 이루어진 리스트에서 문자열 길이가 2 이상이고 주어진 문자열의 첫번째와 마지막 문자가 같은 요소를 모아 새로운 리스트를 만들고 해당 리스트 요소의 개수를 구하세요.\n",
    "\n",
    ">samples = ['level', 'asdwe', 's', 'abceda', 'gsdwrtfg'] -> 결과값: 3 \n"
   ]
  },
  {
   "cell_type": "code",
   "execution_count": 16,
   "metadata": {},
   "outputs": [
    {
     "name": "stdout",
     "output_type": "stream",
     "text": [
      "['level', 'abceda', 'gsdwrtfg'] 3\n"
     ]
    }
   ],
   "source": [
    "samples = ['level', 'asdwe', 's', 'abceda', 'gsdwrtfg'] \n",
    "# 1\n",
    "lists = []\n",
    "for i in samples:\n",
    "    if len(i)>1 and i[0] == i[-1]:\n",
    "        lists.append(i)  \n",
    "print(lists, len(lists))\n"
   ]
  },
  {
   "cell_type": "markdown",
   "metadata": {},
   "source": [
    "### 문제2\n",
    "\n",
    ">다음 리스트에서 중복된 요소를 제거한 리스트를 출력하세요. \n",
    "\n",
    ">items = [10,20,40,20,10,30,50,60,40,80,50,40,20,30,10] "
   ]
  },
  {
   "cell_type": "code",
   "execution_count": 22,
   "metadata": {},
   "outputs": [
    {
     "name": "stdout",
     "output_type": "stream",
     "text": [
      "[10, 20, 40, 30, 50, 60, 80]\n",
      "[10, 20, 40, 30, 50, 60, 80]\n"
     ]
    }
   ],
   "source": [
    "items = [10,20,40,20,10,30,50,60,40,80,50,40,20,30,10] \n",
    "# 1\n",
    "lists = []\n",
    "for i in items:\n",
    "    if i in lists:\n",
    "        continue\n",
    "    else:\n",
    "        lists.append(i)\n",
    "print(lists)\n",
    "\n",
    "# 2\n",
    "number = []\n",
    "for item in items:\n",
    "    if item not in number:\n",
    "        number.append(item)\n",
    "print(number)"
   ]
  },
  {
   "cell_type": "markdown",
   "metadata": {},
   "source": [
    "### 문제3\n",
    "\n",
    ">다음 리스트에서 0번째 4번째 5번째 요소를 지운 새로운 리스트를 생성하세요.\n",
    "\n",
    ">colors = ['Apple', 'Banana', 'Coconut', 'Deli', 'Ele', 'Grape']"
   ]
  },
  {
   "cell_type": "code",
   "execution_count": 57,
   "metadata": {},
   "outputs": [
    {
     "name": "stdout",
     "output_type": "stream",
     "text": [
      "['Banana', 'Coconut', 'Deli']\n"
     ]
    }
   ],
   "source": [
    "colors = ['Apple', 'Banana', 'Coconut', 'Deli', 'Ele', 'Grape']\n",
    "# 1 \n",
    "delteindex = [0,4,5]\n",
    "fruit = []\n",
    "# for color in colors:\n",
    "#     if colors.index(dolors) not in (0,4,5) :\n",
    "for i in range(0, len(colors)):   \n",
    "    if i not in delteindex:\n",
    "        fruit.append(colors[i])\n",
    "print(fruit)\n",
    "\n",
    "# 2\n",
    "fruit = []\n",
    "for a, colors in enumerate(colors):\n",
    "    if a not in (0,4,5):\n",
    "        fruit.append(colors)\n",
    "print(fruit)\n"
   ]
  },
  {
   "cell_type": "markdown",
   "metadata": {},
   "source": [
    "### 문제4\n",
    "\n",
    "> 세 정수 A, B, C가 입력값으로 주어질 때, 두 번째로 큰 정수를 출력하는 프로그램을 작성하세요. "
   ]
  },
  {
   "cell_type": "code",
   "execution_count": 75,
   "metadata": {},
   "outputs": [
    {
     "name": "stdout",
     "output_type": "stream",
     "text": [
      "정수 3개를 입력하세요42 3234 432\n",
      "432\n"
     ]
    }
   ],
   "source": [
    "# 1\n",
    "a, b, c = map(int, input(\"정수 3개를 입력하세요\").split())\n",
    "numbers = [a, b, c]\n",
    "print(sorted(numbers)[1])\n",
    "\n",
    "# 2\n",
    "a, b, c = map(int, input(\"정수 3개를 입력하세요\").split())\n",
    "if((a>=b and b >= c) or (c >= b and b >= a)):\n",
    "    print(b)\n",
    "elif((b>=c and c >= a) or (a >= c and c >= b)):\n",
    "    print(c)\n",
    "else:\n",
    "    print(a)"
   ]
  },
  {
   "cell_type": "markdown",
   "metadata": {},
   "source": [
    "### 문제5\n",
    "\n",
    ">사용자로부터 달러, 엔, 유로, 또는 위안 금액을 입력받은 후 이를 원으로 변환하는 프로그램을 작성하세요. 각 통화별 환율은 다음과 같습니다. (사용자는 100 달러, 1000 엔, 13 유로, 100 위안과 같이 금액과 통화명 사이에 공백을 넣어 입력한다고 가정합니다.)\n",
    "\n"
   ]
  },
  {
   "cell_type": "code",
   "execution_count": 38,
   "metadata": {},
   "outputs": [],
   "source": [
    "currency = {\n",
    "    'USD': 1167, 'JPY': 1.096, 'EURO': 1268, 'CNY': 171\n",
    "}"
   ]
  },
  {
   "cell_type": "code",
   "execution_count": 102,
   "metadata": {},
   "outputs": [
    {
     "name": "stdout",
     "output_type": "stream",
     "text": [
      "금액 : 30 달러\n",
      "35010 원\n",
      "금액 입력 : 30 달러\n",
      "35010 원\n"
     ]
    }
   ],
   "source": [
    "# 1\n",
    "money = input(\"금액 : \").split()\n",
    "if(money[1]==\"달러\"):\n",
    "    result = int(money[0]) * int(currency[\"USD\"])\n",
    "elif(money[1]==\"엔\"):\n",
    "    result = int(money[0]) * int(currency[\"JPY\"])\n",
    "elif(money[1]==\"유로\"):\n",
    "    result = int(money[0]) * int(currency[\"EURO\"])\n",
    "elif(money[1]==\"위안\"):\n",
    "    result = int(money[0]) * int(currency[\"CNY\"])\n",
    "else:\n",
    "     print(\"등록되지 않은 통화입니다.\")\n",
    "print(result)\n",
    "\n",
    "# 2\n",
    "name = {\n",
    "    '달러':'USD', '엔':'JPY','유로':'EURO', '위안':'CNY'\n",
    "}\n",
    "money = input(\"금액 : \").split()\n",
    "result = int(money[0]) * int(currency[name[money[1]]])\n",
    "\n",
    "print(result, \"원\")\n",
    "\n",
    "# 3\n",
    "user_in = input(\"금액 입력 : \").split()\n",
    "amount = user_in[0]\n",
    "currencys = user_in[1]\n",
    "\n",
    "if currencys == '달러':\n",
    "    ratio = 1167\n",
    "elif currencys == '엔':\n",
    "    ratio = 1.096\n",
    "elif currencys == '유로':\n",
    "    ratio = 1268\n",
    "else:\n",
    "    ratio = 171\n",
    "    \n",
    "print(ratio * int(amount), \"원\")\n"
   ]
  }
 ],
 "metadata": {
  "kernelspec": {
   "display_name": "Python 3",
   "language": "python",
   "name": "python3"
  }
 },
 "nbformat": 4,
 "nbformat_minor": 2
}
