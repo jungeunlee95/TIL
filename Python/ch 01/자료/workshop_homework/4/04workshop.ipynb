{
 "cells": [
  {
   "cell_type": "code",
   "execution_count": 2,
   "metadata": {},
   "outputs": [
    {
     "name": "stdout",
     "output_type": "stream",
     "text": [
      "****\n",
      "****\n",
      "****\n",
      "****\n",
      "****\n",
      "****\n",
      "****\n",
      "****\n",
      "****\n",
      "\n"
     ]
    }
   ],
   "source": [
    "# 두 개의 정수 n과 m이 주어집니다. 반복문을 사용하지 않고 별(*) 문자를 이용해 \n",
    "# 가로 의 길이가 n, 세로의 길이가 m인 직사각형 형태를 출력해보세요\n",
    "a = '*'* 4 + '\\n'\n",
    "print(a*9) \n"
   ]
  },
  {
   "cell_type": "code",
   "execution_count": 3,
   "metadata": {},
   "outputs": [
    {
     "name": "stdout",
     "output_type": "stream",
     "text": [
      "87.75\n"
     ]
    }
   ],
   "source": [
    "#  다음 딕셔너리에서 평균 점수를 출력하시오\n",
    "student = {'python' : 80, 'algorithm' : 99, 'django' : 89, 'flask' : 83}\n",
    "sum1 = 0 \n",
    "for i in student:\n",
    "    sum1 += student[i]\n",
    "print(sum1/len(student))"
   ]
  },
  {
   "cell_type": "code",
   "execution_count": 1,
   "metadata": {},
   "outputs": [
    {
     "name": "stdout",
     "output_type": "stream",
     "text": [
      " A : 3명 \n",
      " B : 3명\n",
      " AB : 3명\n",
      " C : 3명\n",
      "\n"
     ]
    }
   ],
   "source": [
    "# 다음은 학생들의 혈액형(A, B, AB, O)에 대한 데이터이다. for문을 이용하여 각 혈액형 별 학생수의 합계를 구하시오.\n",
    "blood_types = ['A','B','A','O','AB','AB','O','A','B','O','B','AB']\n",
    "A = blood_types.count('A')\n",
    "B = blood_types.count('B')\n",
    "AB = blood_types.count('AB')\n",
    "O = blood_types.count('O')\n",
    "print(\" A : {}명 \\n B : {}명\\n AB : {}명\\n C : {}명\\n\".format(A,B,AB,O))"
   ]
  },
  {
   "cell_type": "code",
   "execution_count": 4,
   "metadata": {},
   "outputs": [
    {
     "data": {
      "text/plain": [
       "5"
      ]
     },
     "execution_count": 4,
     "metadata": {},
     "output_type": "execute_result"
    }
   ],
   "source": [
    "int(5)"
   ]
  }
 ],
 "metadata": {
  "kernelspec": {
   "display_name": "Python 3",
   "language": "python",
   "name": "python3"
  },
  "language_info": {
   "codemirror_mode": {
    "name": "ipython",
    "version": 3
   },
   "file_extension": ".py",
   "mimetype": "text/x-python",
   "name": "python",
   "nbconvert_exporter": "python",
   "pygments_lexer": "ipython3",
   "version": "3.6.7"
  }
 },
 "nbformat": 4,
 "nbformat_minor": 2
}
