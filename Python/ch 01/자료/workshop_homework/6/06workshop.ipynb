{
 "cells": [
  {
   "cell_type": "code",
   "execution_count": 1,
   "metadata": {},
   "outputs": [
    {
     "name": "stdout",
     "output_type": "stream",
     "text": [
      "1.4141845703125\n"
     ]
    }
   ],
   "source": [
    "# 1\n",
    "def my_sqrt(n):\n",
    "    x, y = 0, n\n",
    "    answer = 0\n",
    "    \n",
    "    while abs(answer ** 2 -n) > 0.0001:\n",
    "        answer = (x + y) / 2\n",
    "        if answer ** 2 < n :\n",
    "            x = answer\n",
    "        else:\n",
    "            y = answer\n",
    "    return answer\n",
    "print(my_sqrt(2))"
   ]
  },
  {
   "cell_type": "code",
   "execution_count": null,
   "metadata": {},
   "outputs": [],
   "source": [
    "# 2\n",
    "def my_sqrt2(n):\n",
    "    min1, max1 = 0, 1\n",
    "    while 1:\n",
    "        if n == max1 ** 2:\n",
    "            return max1\n",
    "        elif min1 ** 2 < n < max1 ** 2:\n",
    "            guess = (min1 + max1) / 2\n",
    "            \n",
    "            if round(min1, 5) == round(max1,5):\n",
    "                return round(guess, 5)\n",
    "            elif guess**2 > n:\n",
    "                max1 = guess\n",
    "            else:\n",
    "                min1 = guess\n",
    "        else:\n",
    "            min1 += 1\n",
    "            max1 += 1\n",
    "print(my_sqrt2(5))"
   ]
  }
 ],
 "metadata": {
  "kernelspec": {
   "display_name": "Python 3",
   "language": "python",
   "name": "python3"
  },
  "language_info": {
   "codemirror_mode": {
    "name": "ipython",
    "version": 3
   },
   "file_extension": ".py",
   "mimetype": "text/x-python",
   "name": "python",
   "nbconvert_exporter": "python",
   "pygments_lexer": "ipython3",
   "version": "3.6.7"
  }
 },
 "nbformat": 4,
 "nbformat_minor": 2
}
