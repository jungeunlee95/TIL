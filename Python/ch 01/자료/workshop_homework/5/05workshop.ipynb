{
 "cells": [
  {
   "cell_type": "code",
   "execution_count": 18,
   "metadata": {},
   "outputs": [
    {
     "name": "stdout",
     "output_type": "stream",
     "text": [
      "단어를 입력하세요acaw\n",
      "False\n"
     ]
    }
   ],
   "source": [
    "# Palindrome은 앞에서부터 읽었을 때와 뒤에서부터 읽었을 때 같은 단어를 뜻한다. \n",
    "# 따라서, ‘a’'nan’토마토’ 모두 palindrome에 해당합니다.\n",
    "# 따라서, 단어를 입력받아 Palindrome을 검증하고 True나 False를 리턴하는 함수 palindrome(word)를 만들어보세요.\n",
    "\n",
    "def palindrome(words):\n",
    "    if(words == words[::-1]):\n",
    "        return \"True\"\n",
    "    else:\n",
    "        return \"False\"\n",
    "    \n",
    "words = input(\"단어를 입력하세요\")\n",
    "result = palindrome(words)\n",
    "print(result)"
   ]
  }
 ],
 "metadata": {
  "kernelspec": {
   "display_name": "Python 3",
   "language": "python",
   "name": "python3"
  },
  "language_info": {
   "codemirror_mode": {
    "name": "ipython",
    "version": 3
   },
   "file_extension": ".py",
   "mimetype": "text/x-python",
   "name": "python",
   "nbconvert_exporter": "python",
   "pygments_lexer": "ipython3",
   "version": "3.6.7"
  }
 },
 "nbformat": 4,
 "nbformat_minor": 2
}
