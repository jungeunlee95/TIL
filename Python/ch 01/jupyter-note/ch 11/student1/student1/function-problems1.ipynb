{
 "cells": [
  {
   "cell_type": "markdown",
   "metadata": {},
   "source": [
    "## Function-Problems1"
   ]
  },
  {
   "cell_type": "markdown",
   "metadata": {},
   "source": [
    "### 문제1\n",
    "\n",
    "> 다음 리스트의 합계, 평균, 분산을 구하는 함수를 만드세요\n",
    "\n",
    "> grades = [100, 100, 90, 40, 80, 100, 85, 70, 90, 65, 90, 85, 50.5, 62.5]\n",
    "\n",
    "\n",
    "\n"
   ]
  },
  {
   "cell_type": "code",
   "execution_count": 55,
   "metadata": {},
   "outputs": [
    {
     "name": "stdout",
     "output_type": "stream",
     "text": [
      "1108.0\n",
      "79.14\n",
      "331.52\n"
     ]
    }
   ],
   "source": [
    "#여기에 코드를 작성하세요\n",
    "grades = [100, 100, 90, 40, 80, 100, 85, 70, 90, 65, 90, 85, 50.5, 62.5]\n",
    "\n",
    "#합계\n",
    "def grades_sum(scores):\n",
    "    sum1 = 0\n",
    "    for i in scores:\n",
    "        sum1 += i\n",
    "    return sum1\n",
    "print(grades_sum(grades))    \n",
    "\n",
    "#평균\n",
    "def grades_avg(grades):\n",
    "    sum_of_grades = grades_sum(grades)\n",
    "    return round(sum_of_grades / len(grades),2)\n",
    "    \n",
    "print(grades_avg(grades))\n",
    "\n",
    "#분산\n",
    "# 1\n",
    "def grades_var(scores):\n",
    "    avg = grades_avg(scores)\n",
    "    var = 0\n",
    "    for i in scores:\n",
    "        var += (avg - i) ** 2\n",
    "    return round(var/len(scores),2)\n",
    "print(grades_var(grades))\n",
    "\n",
    "# 2\n",
    "# def grades_var(scores):\n",
    "#     avg = grades_avg(scores)\n",
    "#     var = []\n",
    "    \n",
    "#     for i in scores:\n",
    "#         var.append((avg - i) ** 2)\n",
    "#     return grades_avg(var)\n",
    "# print(grades_var(grades))\n",
    "\n"
   ]
  },
  {
   "cell_type": "markdown",
   "metadata": {},
   "source": [
    "### 문제2\n",
    "\n",
    "\n",
    "> 함수는 다음과 같은 4가지의 경우로 나눠서 생각할 수 있습니다.\n",
    "- 입력/리턴값이 모두 있는 경우\n",
    "- 입력값만 있는 경우\n",
    "- 리턴값만 있는 경우\n",
    "- 입력/리턴값이 모두 없는 경우\n",
    "\n",
    ">위의 4가지 경우의 예시를 각각 작성해보세요."
   ]
  },
  {
   "cell_type": "code",
   "execution_count": 43,
   "metadata": {},
   "outputs": [
    {
     "name": "stdout",
     "output_type": "stream",
     "text": [
      "정은이는 사과를 먹습니다.\n",
      "banana호출 :  None\n",
      "cake함수호출 :  티라미수\n",
      "candy함수실행\n",
      "candy함수호출 :  None\n"
     ]
    }
   ],
   "source": [
    "# 1: •입력/리턴값이 모두 있는 경우\n",
    "def apple(a):\n",
    "    return(f'{a}는 사과를 먹습니다.')\n",
    "print(apple(\"정은이\"))\n",
    "\n",
    "# 2: •입력값만 있는 경우\n",
    "def banana(a):\n",
    "    fruit = a\n",
    "print(\"banana호출 : \", banana(\"바나나\"))\n",
    "\n",
    "# 3: •리턴값만 있는 경우\n",
    "def cake():\n",
    "    return \"티라미수\"\n",
    "print(\"cake함수호출 : \",cake())\n",
    "\n",
    "# 4:•입력/리턴값이 모두 없는 경우\n",
    "def candy():\n",
    "    print(\"candy함수실행\")\n",
    "print(\"candy함수호출 : \" , candy())\n",
    "\n",
    "\n",
    "# 정은이는 사과를 먹습니다.\n",
    "# banana호출 :  None\n",
    "# cake함수호출 :  티라미수\n",
    "# candy함수실행\n",
    "# candy함수호출 :  None"
   ]
  },
  {
   "cell_type": "markdown",
   "metadata": {},
   "source": [
    "### 문제3\n",
    "\n",
    ">A 씨는 게시판 프로그램을 작성하고 있습니다. 게시물의 총 건수와 페이지에 보여줄 게시물 수를 입력으로 주었을 때  총 페이지수를 출력하는 프로그램이 필요합니다. A씨를 위한 게시판 페이징을 해주세요.\n",
    "\n",
    "> 페이징: 게시판 페이지수를 보여주는 것 \n",
    "- 총 페이지수 = 총 건수 / 한 페이지당 보여줄 건수 + 1"
   ]
  },
  {
   "cell_type": "code",
   "execution_count": 2,
   "metadata": {},
   "outputs": [
    {
     "name": "stdout",
     "output_type": "stream",
     "text": [
      "총 건수, 페이지당 게시글 입력 : 13 3\n",
      "5\n"
     ]
    }
   ],
   "source": [
    "# 여기에 코드를 작성하세요\n",
    "a, b = map(int,input(\"총 건수, 페이지당 게시글 입력 : \").split())\n",
    "\n",
    "# 1\n",
    "def getTotalPages(m, n):\n",
    "    if m % n == 0:\n",
    "        return m // n\n",
    "    else:\n",
    "        return round(m // n) + 1\n",
    "    \n",
    "print(getTotalPages(a,b))\n"
   ]
  },
  {
   "cell_type": "markdown",
   "metadata": {},
   "source": [
    "### 문제4\n",
    "\n",
    ">다음 중 가장 높은 점수가 출력되도록 만들어주세요.\n",
    "\n",
    "> korean, english, mathematics, science = 100, 86, 81, 91"
   ]
  },
  {
   "cell_type": "code",
   "execution_count": null,
   "metadata": {},
   "outputs": [],
   "source": [
    "# 여기에 코드를 작성하세요\n",
    "korean, english, mathematics, science = 100, 86, 81, 91\n",
    "\n",
    "def max_scores(*args):\n",
    "    return max(args)\n",
    "\n",
    "print(max_scores(korean, english, mathematics, science))\n",
    "print(max_scores(english, mathematics, science))\n"
   ]
  },
  {
   "cell_type": "markdown",
   "metadata": {},
   "source": [
    "### 문제5\n",
    "\n",
    ">길이가 n이고, \"수박수박수박수...\"와 같은 패턴을 유지하는 문자열을 리턴하는 함수, solution을 완성하세요. \n",
    "\n",
    "> 예를들어 n이 4이면 \"수박수박\"을 리턴하고 3이라면 \"수박수\"를 리턴하면 됩니다."
   ]
  },
  {
   "cell_type": "code",
   "execution_count": 6,
   "metadata": {},
   "outputs": [
    {
     "name": "stdout",
     "output_type": "stream",
     "text": [
      "수박수박수박수\n"
     ]
    }
   ],
   "source": [
    " \n",
    "def solution(n):\n",
    "    answer = '수박' * n\n",
    "    return answer[:n]\n",
    "print(solution(7))\n",
    "\n"
   ]
  }
 ],
 "metadata": {
  "kernelspec": {
   "display_name": "Python 3",
   "language": "python",
   "name": "python3"
  },
  "language_info": {
   "codemirror_mode": {
    "name": "ipython",
    "version": 3
   },
   "file_extension": ".py",
   "mimetype": "text/x-python",
   "name": "python",
   "nbconvert_exporter": "python",
   "pygments_lexer": "ipython3",
   "version": "3.6.7"
  }
 },
 "nbformat": 4,
 "nbformat_minor": 2
}
