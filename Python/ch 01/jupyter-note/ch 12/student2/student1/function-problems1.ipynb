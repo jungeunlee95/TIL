{
 "cells": [
  {
   "cell_type": "markdown",
   "metadata": {},
   "source": [
    "## Function-Problems1"
   ]
  },
  {
   "cell_type": "markdown",
   "metadata": {},
   "source": [
    "### 문제1\n",
    ">모든 인수의 합계를 반환하는 함수를 만드세요. 입력 값은 함수에 대한 매개 변수로 인덱스와\n",
    "함께 점차 증가합니다. (첫번째 인덱스는 1부터 시작합니다)"
   ]
  },
  {
   "cell_type": "code",
   "execution_count": 1,
   "metadata": {},
   "outputs": [
    {
     "ename": "SyntaxError",
     "evalue": "invalid syntax (<ipython-input-1-eb33e1f57fb4>, line 11)",
     "output_type": "error",
     "traceback": [
      "\u001b[0;36m  File \u001b[0;32m\"<ipython-input-1-eb33e1f57fb4>\"\u001b[0;36m, line \u001b[0;32m11\u001b[0m\n\u001b[0;31m    인수가 없으면 0을 반환합니다.\u001b[0m\n\u001b[0m          ^\u001b[0m\n\u001b[0;31mSyntaxError\u001b[0m\u001b[0;31m:\u001b[0m invalid syntax\n"
     ]
    }
   ],
   "source": [
    "# 예시 1\n",
    "add(3, 4, 5) # returns (3*1)+(4*2)+(5*3)=26\n",
    "\n",
    "# 예시 2\n",
    "add() #=> 0\n",
    "add(1,2,3) #=> 14\n",
    "add(1,4,-5,5) #=> 14\n",
    "\n",
    "\n",
    "# 유의\n",
    "인수가 없으면 0을 반환합니다."
   ]
  },
  {
   "cell_type": "code",
   "execution_count": 8,
   "metadata": {},
   "outputs": [
    {
     "name": "stdout",
     "output_type": "stream",
     "text": [
      "0\n",
      "14\n",
      "14\n"
     ]
    }
   ],
   "source": [
    "# 1\n",
    "def add(*args):\n",
    "    sum1 = 0\n",
    "    for i in range(1, len(args)+1):\n",
    "        sum1 += args[i-1]*i\n",
    "    return sum1\n",
    "\n",
    "# 2\n",
    "def add2(*args):\n",
    "    result = 0\n",
    "    for idx, num in enumerate(args, 1):\n",
    "        result += idx * num \n",
    "    return result\n",
    "\n",
    "print(add2()) #=> 0\n",
    "print(add2(1,2,3)) #=> 14\n",
    "print(add2(1,4,-5,5)) #=> 14"
   ]
  },
  {
   "cell_type": "markdown",
   "metadata": {},
   "source": [
    "### 문제2\n",
    "\n",
    ">양을 세는 함수를 만들어 보세요. 예를 들어, 3이라는 숫자가 주어지면 \"1 sheep...2 sheep...3 sheep...\"이라는 문자열을 리턴하면 됩니다.\n",
    "\n",
    "> 항상 '양의 정수' 만을 인수로 받습니다."
   ]
  },
  {
   "cell_type": "code",
   "execution_count": 10,
   "metadata": {},
   "outputs": [
    {
     "name": "stdout",
     "output_type": "stream",
     "text": [
      "1sheep...2sheep...3sheep...4sheep...5sheep...\n",
      "1sheep...2sheep...3sheep...4sheep...5sheep...\n"
     ]
    }
   ],
   "source": [
    "# 1\n",
    "def count_sheep(n):\n",
    "    result = \"\"\n",
    "    for i in range(1, n+1):\n",
    "        result += \"{}sheep...\".format(i)\n",
    "        # result += str(i) + \"sheep...\"\n",
    "    return result\n",
    "print(count_sheep(5))\n"
   ]
  },
  {
   "cell_type": "markdown",
   "metadata": {},
   "source": [
    "### 문제3\n",
    "\n",
    ">문자열 목록을 필터링하고 친구 이름만 있는 목록을 반환하는 프로그램을 만드세요. 당신의 친구들의 이름은 모두 4개의 글자로 되어 있습니다.\n",
    "\n",
    ">예시\n",
    "- Input = [\"Ryan\", \"Kieran\", \"Jason\", \"Yous\"], Output = [\"Ryan\", \"Yous\"]"
   ]
  },
  {
   "cell_type": "code",
   "execution_count": 17,
   "metadata": {},
   "outputs": [],
   "source": [
    "# 1\n",
    "def friends(name):\n",
    "    result = []\n",
    "    for i in name:\n",
    "        if len(i) == 4:\n",
    "            result.append(i)\n",
    "    return result\n",
    "\n",
    "# 2\n",
    "def friends2(name):\n",
    "    for i in range(len(name)-1, 0, -1):\n",
    "        if len(name[i]) != 4:\n",
    "            name.remove(name[i])\n",
    "    return name\n"
   ]
  },
  {
   "cell_type": "markdown",
   "metadata": {},
   "source": [
    "### 문제4\n",
    "\n",
    ">자릿수가 주어지면 5미만의 숫자를 '0'으로 바꾸고, 5 이상의 숫자는 '1로'바꿔서 문자열로 반환하는 함수를 작성하세요. (단, 함수를 호출할 때 인자는 str 자료형이어야 합니다)\n"
   ]
  },
  {
   "cell_type": "code",
   "execution_count": 6,
   "metadata": {},
   "outputs": [
    {
     "name": "stdout",
     "output_type": "stream",
     "text": [
      "00011\n",
      "00011\n"
     ]
    }
   ],
   "source": [
    "# 1\n",
    "def solution(num):\n",
    "    str1 = \"\"\n",
    "    for i in num:\n",
    "        if(int(i)<5):\n",
    "            str1 += \"0\"\n",
    "        else:\n",
    "            str1+=\"1\"\n",
    "    return str1\n",
    "print(solution(\"12378\"))\n",
    "\n",
    "# 2\n",
    "def solution2(num):\n",
    "    str1 = \"\"\n",
    "    for i in num:\n",
    "        str1 += \"0\" if int(i) < 5 else \"1\"\n",
    "    return str1    \n",
    "print(solution2(\"12378\"))\n",
    "\n",
    "# 3\n",
    "def solution3(num):\n",
    "    str1 = \"\"\n"
   ]
  }
 ],
 "metadata": {
  "kernelspec": {
   "display_name": "Python 3",
   "language": "python",
   "name": "python3"
  },
  "language_info": {
   "codemirror_mode": {
    "name": "ipython",
    "version": 3
   },
   "file_extension": ".py",
   "mimetype": "text/x-python",
   "name": "python",
   "nbconvert_exporter": "python",
   "pygments_lexer": "ipython3",
   "version": "3.6.7"
  }
 },
 "nbformat": 4,
 "nbformat_minor": 2
}
