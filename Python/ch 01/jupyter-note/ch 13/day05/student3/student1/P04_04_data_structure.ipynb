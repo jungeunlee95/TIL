{
 "cells": [
  {
   "cell_type": "markdown",
   "metadata": {},
   "source": [
    "# 불쌍한 달팽이 - 고전 수학문제\n",
    "\n",
    ">달팽이는 낮 시간 동안에 기둥을 올라갑니다. 하지만 밤에는 잠을 자면서 어느 정도의 거리만큼미끄러집니다. (낮 시간 동안 올라간 거리보다는 적게 미끄러집니다) 달팽이가 기둥의 꼭대기에 도달하는 날까지 걸리는 시간을 계산하면 됩니다.\n",
    "\n",
    "> 당신의 함수에 들어가야 하는 3개의 인자는 다음과 같습니다.\n",
    "- 기둥의 높이(미터)\n",
    "- 낮 시간 동안 달팽이가 올라가는 거리(미터)\n",
    "- 달팽이가 야간에 잠을 자는 동안 미끄러지는 거리(미터)\n",
    "\n",
    "```\n",
    "snail(100, 5, 2)\n",
    "33\n",
    "```"
   ]
  },
  {
   "cell_type": "code",
   "execution_count": 83,
   "metadata": {},
   "outputs": [
    {
     "name": "stdout",
     "output_type": "stream",
     "text": [
      "33\n",
      "33\n"
     ]
    }
   ],
   "source": [
    "# 1\n",
    "def snail(height, day, night):\n",
    "    return height // (day-night)\n",
    "print(snail(100, 5, 2))\n",
    "\n",
    "# 2\n",
    "def snail2(height, day, night):\n",
    "    count = 0\n",
    "    while True:\n",
    "        count += 1\n",
    "        height -= day\n",
    "        if height <= 0:\n",
    "            return count\n",
    "        height += night\n",
    "    return count\n",
    "\n",
    "print(snail2(100, 5, 2))"
   ]
  },
  {
   "cell_type": "markdown",
   "metadata": {},
   "source": [
    "# 무엇이 중복일까\n",
    "\n",
    "> 다음 리스트에서 중복되는 요소만 뽑아서 새로운 리스트에 옮기시오. \n",
    "\n",
    "```\n",
    "입력)\n",
    "duplicated(['a', 'b', 'c', 'b', 'd', 'm', 'n', 'n', 'b'])\n",
    "\n",
    "출력)\n",
    "['b', 'n']\n",
    "```"
   ]
  },
  {
   "cell_type": "code",
   "execution_count": 79,
   "metadata": {
    "scrolled": false
   },
   "outputs": [
    {
     "name": "stdout",
     "output_type": "stream",
     "text": [
      "['b', 'n']\n",
      "['b', 'n']\n",
      "['b', 'n']\n"
     ]
    }
   ],
   "source": [
    "# 1\n",
    "def duplicated(a):\n",
    "    result = [x for x in a if a.count(x) > 1 ]\n",
    "    return list(set(result))\n",
    "\n",
    "print(duplicated(['a', 'b', 'c', 'b', 'd', 'm', 'n', 'n', 'b']))\n",
    "\n",
    "# 2\n",
    "def duplicated2(a):\n",
    "    result = []\n",
    "    for i in a:\n",
    "        if a.count(i) > 1 and i not in result:\n",
    "            result .append(i)\n",
    "    return result\n",
    "print(duplicated2(['a', 'b', 'c', 'b', 'd', 'm', 'n', 'n', 'b']))         \n",
    "\n",
    "# 3\n",
    "def duplicated3(a):\n",
    "    return list({c for c in a if a.count(c) > 1})\n",
    "print(duplicated3(['a', 'b', 'c', 'b', 'd', 'm', 'n', 'n', 'b']))\n"
   ]
  },
  {
   "cell_type": "markdown",
   "metadata": {},
   "source": [
    "# 알파벳만 남기고 뒤집기\n",
    "\n",
    ">문자열이 주어지면, 해당 문자열 중에서 알파벳이 아닌 문자는 전부 빼고 거꾸로 뒤집어 반환하는 함수를 작성하세요.\n",
    "\n",
    "```\n",
    "예시) \n",
    "reverse_letter(\"krishan\")\n",
    "\"nahsirk\"\n",
    "\n",
    "reverse_letter(\"ultr53o?n\")\n",
    "\"nortlu\"\n",
    "```"
   ]
  },
  {
   "cell_type": "code",
   "execution_count": 120,
   "metadata": {},
   "outputs": [
    {
     "name": "stdout",
     "output_type": "stream",
     "text": [
      "nortlu\n"
     ]
    }
   ],
   "source": [
    "# 1\n",
    "def reverse_letter(s):\n",
    "    result = ''.join([x for x in s if x.isalpha()][::-1])\n",
    "    return result\n",
    "#2\n",
    "def reverse_letter2(s):\n",
    "    a = []\n",
    "    for c in s :\n",
    "        if c.isalpha():\n",
    "            a.append(c)\n",
    "    return ''.join(a[::-1])\n",
    "\n",
    "# 3\n",
    "def reverse_letter3(s):\n",
    "    a = [ c for c in s if c.isalpha()]\n",
    "    return ''.join(a[::-1])"
   ]
  },
  {
   "cell_type": "markdown",
   "metadata": {},
   "source": [
    "# 편-안한 단어\n",
    "\n",
    ">(QWERTY 키보드를 사용하여 타이핑을 한다고 가정할 때) '편안한 단어'는 타이핑 할 때 손을\n",
    "번갈아 칠 수 있는 단어를 말합니다.단어를 인자로 받아 그것이 '편안한 단어'인지 여부를 True/False로 반환하는 함수를 만드세요.(모든 단어는 a ~ z까지 오름차순으로 구성된 문자열입니다.)\n",
    "\n",
    ">문자 목록\n",
    "- 왼손: q, w, e, r, t, a, s, s, d, f, g, z, x, c, v, b\n",
    "- 오른손: y, u, i, o, p, h, j, k, l, n, m"
   ]
  },
  {
   "cell_type": "code",
   "execution_count": 10,
   "metadata": {},
   "outputs": [
    {
     "name": "stdout",
     "output_type": "stream",
     "text": [
      "True\n",
      "False\n"
     ]
    }
   ],
   "source": [
    "def comfortable_word(word):\n",
    "    left = 'qwertassdfgzxcvb'\n",
    "    right = 'yuiophjklnm'\n",
    "    l = True if word[0] in left else False  # ex: qywu ==> 첫 : 왼 t\n",
    "    \n",
    "    for c in word[1:]:\n",
    "        if c in left and l:          # t and t\n",
    "            return False\n",
    "        if c in right and not l : \n",
    "            return False\n",
    "        l = not l\n",
    "    return True\n",
    "            \n",
    "print(comfortable_word(\"qywu\"))\n",
    "print(comfortable_word(\"apple\"))"
   ]
  },
  {
   "cell_type": "markdown",
   "metadata": {},
   "source": [
    "# 숫자패턴\n",
    "\n",
    ">원하는 행까지 아래의 패턴을 생성하는 함수를 작성하세요. 만약 인자가 0이나 음의 정수인 경우 \"\" 즉, 빈 문자열로 반환하세요.짝수가 인수로 전달되면 패턴은 통과된 짝수보다 작은 최대 홀수까지 계속되어야 합니다.\n",
    "\n",
    "```\n",
    "예시 \n",
    "pattern(9):\n",
    "\n",
    "1\n",
    "333\n",
    "55555\n",
    "7777777\n",
    "999999999\n",
    "\n",
    "pattern(6)\n",
    "1\n",
    "333\n",
    "55555\n",
    "\n",
    "유의\n",
    "패턴에 공백은 없습니다.\n",
    "```"
   ]
  },
  {
   "cell_type": "code",
   "execution_count": 59,
   "metadata": {},
   "outputs": [
    {
     "name": "stdout",
     "output_type": "stream",
     "text": [
      "1\n",
      "333\n",
      "55555\n",
      "7777777\n",
      "\n",
      "1\n",
      "333\n",
      "55555\n",
      "\n",
      "1\n",
      "333\n",
      "55555\n",
      "7777777\n",
      "999999999\n",
      "1\n",
      "333\n",
      "55555\n",
      "1\n",
      "333\n",
      "55555\n",
      "7777777\n",
      "999999999\n",
      "1\n",
      "333\n",
      "55555\n"
     ]
    }
   ],
   "source": [
    "# 1\n",
    "def pattern(n):\n",
    "    result = \"\"\n",
    "    if n ==0 or n <0:\n",
    "        return \"\"\n",
    "    for i in range(1, n):\n",
    "        if(i%2==1):\n",
    "             result += str(str(i) * i+\"\\n\")\n",
    "    return result\n",
    "\n",
    "# 2\n",
    "def pattern2(n):\n",
    "    result = \"\"\n",
    "    a = n\n",
    "    if a % 2 == 0 :\n",
    "        a -= 1\n",
    "    for x in range(1, a+1):\n",
    "        if x % 2 != 0 :\n",
    "            result += str(x) * x\n",
    "            if x != a:\n",
    "                result += \"\\n\"\n",
    "    return result\n",
    "\n",
    "# 3\n",
    "def pattern3(n):\n",
    "    r = [str(x) * x for x in range(1, n+1) if x % 2]\n",
    "    return \"\\n\".join(r)\n",
    "\n",
    "\n",
    "print(pattern(9))\n",
    "print(pattern(6))\n",
    "print(pattern2(9))\n",
    "print(pattern2(6))\n",
    "print(pattern3(9))\n",
    "print(pattern3(6))"
   ]
  },
  {
   "cell_type": "markdown",
   "metadata": {},
   "source": [
    "# 숫자가 좋아\n",
    "\n",
    "> 스트링과 함께 섞여있는 문자열들 속에서 정수만 뽑아내 합을 반환하는 함수 `pick_and_sum`를 작성하세요.\n",
    "\n",
    "예시)\n",
    "```python\n",
    "pick_and_sum(\"The30quick20brown10f0x1203jumps914ov3r1349the102l4zy dog\") #=> 3635\n",
    "```"
   ]
  },
  {
   "cell_type": "code",
   "execution_count": 19,
   "metadata": {},
   "outputs": [
    {
     "name": "stdout",
     "output_type": "stream",
     "text": [
      "3635\n",
      "3635\n",
      "3635\n",
      "3635\n"
     ]
    }
   ],
   "source": [
    "# 1\n",
    "def pick_and_sum(s):\n",
    "    result = \"\"\n",
    "    sum1 = 0\n",
    "    \n",
    "    for i in s:\n",
    "        if i.isalpha():\n",
    "            result += \" \"\n",
    "        elif i.isdigit :\n",
    "            result += i\n",
    "    \n",
    "    for i in result.split(\" \"):\n",
    "        if(i != \"\"):\n",
    "            sum1 += int(i)\n",
    "    return sum1\n",
    "    \n",
    "print(pick_and_sum(\"The30quick20brown10f0x1203jumps914ov3r1349the102l4zy dog\"))\n",
    "\n",
    "# 2 \n",
    "def pick_and_sum2(s):\n",
    "    for x in s:\n",
    "        if not x.isdecimal():\n",
    "            s = s.replace(x,' ')\n",
    "    return sum(map(int, s.split()))\n",
    "    \n",
    "print(pick_and_sum2(\"The30quick20brown10f0x1203jumps914ov3r1349the102l4zy dog\"))\n",
    "\n",
    "# 3\n",
    "def pick_and_sum3(s):\n",
    "    return sum(map(int, ''.join(c if c.isdigit() else ' ' for c in s).split()))\n",
    "    \n",
    "print(pick_and_sum3(\"The30quick20brown10f0x1203jumps914ov3r1349the102l4zy dog\"))\n",
    "\n",
    "# 4\n",
    "import re\n",
    "def pick_and_sum4(s):\n",
    "    return sum(int(x) for x in re.findall(r'(\\d+)',s)) \n",
    "print(pick_and_sum4(\"The30quick20brown10f0x1203jumps914ov3r1349the102l4zy dog\"))"
   ]
  }
 ],
 "metadata": {
  "kernelspec": {
   "display_name": "Python 3",
   "language": "python",
   "name": "python3"
  },
  "language_info": {
   "codemirror_mode": {
    "name": "ipython",
    "version": 3
   },
   "file_extension": ".py",
   "mimetype": "text/x-python",
   "name": "python",
   "nbconvert_exporter": "python",
   "pygments_lexer": "ipython3",
   "version": "3.6.7"
  },
  "latex_envs": {
   "LaTeX_envs_menu_present": true,
   "autoclose": false,
   "autocomplete": true,
   "bibliofile": "biblio.bib",
   "cite_by": "apalike",
   "current_citInitial": 1,
   "eqLabelWithNumbers": true,
   "eqNumInitial": 1,
   "hotkeys": {
    "equation": "Ctrl-E",
    "itemize": "Ctrl-I"
   },
   "labels_anchors": false,
   "latex_user_defs": false,
   "report_style_numbering": false,
   "user_envs_cfg": false
  },
  "toc": {
   "base_numbering": 1,
   "nav_menu": {},
   "number_sections": true,
   "sideBar": true,
   "skip_h1_title": false,
   "title_cell": "Table of Contents",
   "title_sidebar": "Contents",
   "toc_cell": false,
   "toc_position": {},
   "toc_section_display": true,
   "toc_window_display": false
  }
 },
 "nbformat": 4,
 "nbformat_minor": 2
}
