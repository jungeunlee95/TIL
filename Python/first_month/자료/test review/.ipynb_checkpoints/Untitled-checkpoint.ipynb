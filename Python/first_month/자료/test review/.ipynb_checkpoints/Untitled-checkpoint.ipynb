{
 "cells": [
  {
   "cell_type": "code",
   "execution_count": 10,
   "metadata": {},
   "outputs": [
    {
     "name": "stdout",
     "output_type": "stream",
     "text": [
      "[3, 'a', 'b']\n",
      "[4, 'a', 'b']\n"
     ]
    }
   ],
   "source": [
    "import copy\n",
    "\n",
    "list1 = [3, 'a', 'b']\n",
    "list2 = [1, 2, list1]\n",
    "list3 = list1[:] # 원본 안바뀜. 얘는 리스트1을 가리키는게 아니라, 리스트1을 복사해서 새로운 공간 만든거임\n",
    "list4 = copy.copy(list2)  # list2의 0,1번지 값은 안바꾸는데, list2가 가리키는 list의 값은 원본이 바뀝니다.\n",
    "list5 = copy.deepcopy(list2) # 둘 다 새로운 공간이 바뀌기 때문에 원본데이터 안바뀜!!!\n",
    "\n",
    "list1 == list3  # True \n",
    "\n",
    "list3[0] = 4\n",
    "print(list1) # [3, 'a', 'b']\n",
    "print(list3) # [4, 'a', 'b']"
   ]
  }
 ],
 "metadata": {
  "kernelspec": {
   "display_name": "Python 3",
   "language": "python",
   "name": "python3"
  },
  "language_info": {
   "codemirror_mode": {
    "name": "ipython",
    "version": 3
   },
   "file_extension": ".py",
   "mimetype": "text/x-python",
   "name": "python",
   "nbconvert_exporter": "python",
   "pygments_lexer": "ipython3",
   "version": "3.6.7"
  }
 },
 "nbformat": 4,
 "nbformat_minor": 2
}
