{
 "cells": [
  {
   "cell_type": "code",
   "execution_count": 1,
   "metadata": {},
   "outputs": [
    {
     "ename": "SyntaxError",
     "evalue": "unexpected EOF while parsing (<ipython-input-1-e21974c671f6>, line 38)",
     "output_type": "error",
     "traceback": [
      "\u001b[1;36m  File \u001b[1;32m\"<ipython-input-1-e21974c671f6>\"\u001b[1;36m, line \u001b[1;32m38\u001b[0m\n\u001b[1;33m    # 해당일 누적관객수 중복 -> 최신정보 반영\u001b[0m\n\u001b[1;37m                             ^\u001b[0m\n\u001b[1;31mSyntaxError\u001b[0m\u001b[1;31m:\u001b[0m unexpected EOF while parsing\n"
     ]
    }
   ],
   "source": [
    "import requests\n",
    "import json\n",
    "import os \n",
    "from pprint import pprint as pp\n",
    "import csv\n",
    "date2 = [\"20181111\",\"20181118\",\"20181125\",\"20181202\",\"20181209\",\"20181216\",\"20181223\",\"20181230\",\"20190106\",\"20190113\"]\n",
    "movie_key = os.getenv('MOVIE_TOKEN')\n",
    "url = 'http://www.kobis.or.kr/kobisopenapi/webservice/rest/boxoffice/searchWeeklyBoxOfficeList.json'\n",
    "movie_list = []\n",
    "for targetDt in date2 : \n",
    "    params = {\n",
    "        'key': movie_key,\n",
    "        'targetDt':targetDt,\n",
    "        'weekGb':\"0\"\n",
    "        \n",
    "    }\n",
    "    \n",
    "    res = requests.get(url, params=params).text\n",
    "    document = json.loads(res)\n",
    "    movie_info = document['boxOfficeResult']['weeklyBoxOfficeList']\n",
    "    for i in movie_info:\n",
    "        b = {\"영화대표코드\" : i[\"movieCd\"], \"영화명\" : i[\"movieNm\"], \n",
    "              \"해당일누적관객수\": i[\"audiAcc\"], \"해당일\" : document['boxOfficeResult']['showRange'].split(\"~\")[1]}\n",
    "        movie_list.append(b)\n",
    "\n",
    "movie_list2 = []        \n",
    "# for i in movie_list:\n",
    "    \n",
    "# with open('boxoffice2.csv','a') as f:\n",
    "#     field = (\"영화대표코드\", \"영화명\", \"해당일누적관객수\", \"해당일\")\n",
    "#     writer = csv.DictWriter(f, fieldnames=field)\n",
    "#     writer.writeheader()\n",
    "    \n",
    "#     for movie in movie_list:\n",
    "#         writer.writerow(movie)\n",
    "\n",
    "# 영화 대표 코드 movieCd , 영화명 movieNm, 해당일 누적관색수 audiAcc, 해당일 showRange\n",
    "# 해당일 누적관객수 중복 -> 최신정보 반영"
   ]
  }
 ],
 "metadata": {
  "kernelspec": {
   "display_name": "Python 3",
   "language": "python",
   "name": "python3"
  },
  "language_info": {
   "codemirror_mode": {
    "name": "ipython",
    "version": 3
   },
   "file_extension": ".py",
   "mimetype": "text/x-python",
   "name": "python",
   "nbconvert_exporter": "python",
   "pygments_lexer": "ipython3",
   "version": "3.6.7"
  }
 },
 "nbformat": 4,
 "nbformat_minor": 2
}
