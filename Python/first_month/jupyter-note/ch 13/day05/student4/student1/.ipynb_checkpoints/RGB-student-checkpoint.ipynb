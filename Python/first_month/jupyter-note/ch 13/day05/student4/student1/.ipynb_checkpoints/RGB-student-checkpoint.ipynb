{
 "cells": [
  {
   "cell_type": "markdown",
   "metadata": {},
   "source": [
    "### 문제1\n",
    "\n",
    "> 색이 칠해진 삼각형은 각각 빨강, 녹색 또는 파랑 색의 행에서 만들어집니다. \n",
    "마지막 행보다 하나 적은 색을 각각 포함하는 연속 행은 이전 행에서 두 개의 색을 고려하여 생성됩니다.\n",
    "이 색상이 동일하면 동일한 색상이 새 행에 사용됩니다. 색상이 다른 경우 누락 된 색상이 새 행에 사용됩니다. \n",
    "단 하나의 색상으로 최종 행이 생성 될 때까지 계속됩니다."
   ]
  },
  {
   "cell_type": "code",
   "execution_count": null,
   "metadata": {},
   "outputs": [],
   "source": [
    "''''\n",
    "Colour here:        G G        B G        R G        B R\n",
    "Becomes colour:    G           R           B            G\n",
    "   \n",
    "처리 과정 \n",
    "R R G B R G B B\n",
    " R B R G B R B \n",
    "  G G B R G G\n",
    "   G R G B G\n",
    "    B B R R\n",
    "     B G R\n",
    "      R B\n",
    "       G\n",
    "'''\n",
    "# s = \"RRGGBB\"\n",
    "# color = [\"G\", \"R\", \"B\"]\n",
    "# result = \"\"\n",
    "# cnt = 0\n",
    "# while(cnt < len(s)):\n",
    "#     n = \"\"\n",
    "#     for i in s:\n",
    "#          for i in range(0, len(s)):\n",
    "#             print(s[i], s[i+1])"
   ]
  },
  {
   "cell_type": "code",
   "execution_count": 3,
   "metadata": {},
   "outputs": [],
   "source": [
    "s = \"RRRGGGBBBBBB\"\n",
    "result = \"\"\n",
    "\n",
    "# if(len(result) == 1):\n",
    "#     print(result)\n",
    "# else:\n",
    "# a = \"\"\n",
    "# while(len(s) != 1):\n",
    "#     for i in range(len(s)):\n",
    "#         if(i+1 < len(s)):\n",
    "#             if(s[i] == s[i+1]):\n",
    "#                 a += s[i]\n",
    "#             else:\n",
    "#                 color = [\"R\",\"G\",\"B\"]\n",
    "#                 color.remove(s[i])\n",
    "#                 color.remove(s[i+1])\n",
    "#                 a +=color[0]\n",
    "#             result += a\n",
    "#         a = \"\"\n",
    "#         s = result\n",
    "# print(s)\n",
    "\n",
    "\n",
    "# s = \"RRGGBB\"\n",
    "# result = \"\"\n",
    "# def aaa(s):\n",
    "#     if(len(s)==1):\n",
    "#         return s\n",
    "#     else :\n",
    "#         for i in range(len(s)):\n",
    "#             if(i+1 < len(s)):\n",
    "#                 if(s[i] == s[i+1]):\n",
    "#                     result += s[i]\n",
    "#                 else:\n",
    "#                     color = [\"R\",\"G\",\"B\"]\n",
    "#                     color.remove(s[i])\n",
    "#                     color.remove(s[i+1])\n",
    "#                     result +=color[0]\n",
    "#         aaa(result)\n",
    "                \n",
    "# print(aaa(\"RRGGBB\"))   "
   ]
  },
  {
   "cell_type": "code",
   "execution_count": 16,
   "metadata": {},
   "outputs": [
    {
     "name": "stdout",
     "output_type": "stream",
     "text": [
      "R\n",
      "B\n",
      "G\n",
      "G\n"
     ]
    }
   ],
   "source": [
    "# 1\n",
    "# def triangle(r):\n",
    "#     dict = {\n",
    "#         'GG':'G','BB':'B','RR':'R','GB':'R','GR':'B',\n",
    "#         'BR':'G','BG':'R','RB':'G','RB':'G','RG':'B'\n",
    "#     }\n",
    "#     if len(r) > 2 :\n",
    "#         s = ''\n",
    "#         for i in range(len(r)-1):\n",
    "#             s = s + dict[r[i:i+2]]\n",
    "#         r = s\n",
    "#         return triangle(r)\n",
    "#     elif len(r) > 1:\n",
    "#         return dict[r]\n",
    "#     else :\n",
    "#         return r\n",
    "\n",
    "\n",
    "# 2\n",
    "color_set = set(\"RGB\")\n",
    "def triangle(r):\n",
    "    while len(r)>1:                                     # 만약 RRG 이면,    RRG, RG 비교\n",
    "        r = ''.join(a if a==b else(color_set - {a, b}).pop() for a, b in zip(r,r[1:]))\n",
    "    return r\n",
    "\n",
    "print(triangle('RRR')) \n",
    "print(triangle('RG')) \n",
    "print(triangle('RRRGGGBBBBBB')) \n",
    "print(triangle('RRGBRGBB')) "
   ]
  },
  {
   "cell_type": "markdown",
   "metadata": {},
   "source": [
    "> 삼각형의 첫 행을 문자열로 지정하고 마지막 행을 문자열로 표시하는 최종 색을 반환합니다. 위 예제의 경우 RRGBRGBB를 반환해야합니다. 입력 문자열에는 대문자 R, G, B 만 포함되며 적어도 하나의 문자가있어 유효하지 않은 입력을  테스트 할 필요가 없습니다. 한 색상 만 입력으로 받으면 해당 색상을 반환하십시오.\n",
    "\n",
    "> 출력 결과\n",
    "- print(triangle('RRR')) => R\n",
    "- print(triangle('RG')) => B \n",
    "- print(triangle('RRRGGGBBBBBB')) => G\n",
    "- print(triangle('RRGBRGBB')) => G\n",
    "\n",
    "\n",
    "\n",
    "> Adapted from the 2017 British Informatics Olympiad"
   ]
  }
 ],
 "metadata": {
  "kernelspec": {
   "display_name": "Python 3",
   "language": "python",
   "name": "python3"
  }
 },
 "nbformat": 4,
 "nbformat_minor": 2
}
