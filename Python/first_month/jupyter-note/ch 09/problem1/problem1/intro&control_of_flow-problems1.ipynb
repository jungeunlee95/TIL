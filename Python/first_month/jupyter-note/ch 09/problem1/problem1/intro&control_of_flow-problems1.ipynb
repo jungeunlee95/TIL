{
 "cells": [
  {
   "cell_type": "markdown",
   "metadata": {},
   "source": [
    "## Intro&Control_of_flow-문제1\n"
   ]
  },
  {
   "cell_type": "markdown",
   "metadata": {},
   "source": [
    "### 문제1\n",
    "\n",
    "> 다음 과목별 평균 점수를 구하세요. (국어:80 영어:90, 수학:100)\n"
   ]
  },
  {
   "cell_type": "code",
   "execution_count": 6,
   "metadata": {},
   "outputs": [
    {
     "name": "stdout",
     "output_type": "stream",
     "text": [
      "90.0\n"
     ]
    }
   ],
   "source": [
    "#여기에 코드를 작성하세요.\n",
    "k = 80\n",
    "e = 90\n",
    "m = 100\n",
    "print((k+e+m)/3)\n"
   ]
  },
  {
   "cell_type": "markdown",
   "metadata": {},
   "source": [
    "### 문제2\n",
    "\n",
    ">주어진 리스트의 자연수들이 각각 홀수인지 짝수인지 판별하는 코드를 작성하세요.  numbers = [1, 2, 3, 4, 5, 6, 7, 8, 9]"
   ]
  },
  {
   "cell_type": "code",
   "execution_count": 17,
   "metadata": {},
   "outputs": [
    {
     "name": "stdout",
     "output_type": "stream",
     "text": [
      "1 = 홀수\n",
      "2 = 짝수\n",
      "3 = 홀수\n",
      "4 = 짝수\n",
      "5 = 홀수\n",
      "6 = 짝수\n",
      "7 = 홀수\n",
      "8 = 짝수\n",
      "9 = 홀수\n",
      "--------------------------\n",
      "1은(는) 홀수\n",
      "2은(는) 짝수\n",
      "3은(는) 홀수\n",
      "4은(는) 짝수\n",
      "5은(는) 홀수\n",
      "6은(는) 짝수\n",
      "7은(는) 홀수\n",
      "8은(는) 짝수\n",
      "9은(는) 홀수\n"
     ]
    }
   ],
   "source": [
    "#여기에 코드를 작성하세요.\n",
    "numbers = [1, 2, 3, 4, 5, 6, 7, 8, 9]\n",
    "\n",
    "for i in numbers:\n",
    "    if(i % 2 == 0 ) :\n",
    "        print(\"{} = 짝수\".format(i))\n",
    "    else:\n",
    "        print(\"{} = 홀수\".format(i))\n",
    "print(\"--------------------------\")\n",
    "for i in numbers:\n",
    "    if(i % 2 == 0 ) :\n",
    "        print('%d은(는) %s' % (i, '짝수'))\n",
    "    else:\n",
    "        print('%d은(는) %s' % (i, '홀수'))\n"
   ]
  },
  {
   "cell_type": "markdown",
   "metadata": {},
   "source": [
    "### 문제3\n",
    "\n",
    "> 1부터 1000까지의 자연수 중 5의 배수에 해당되는 자연수들의 총합을 구하는 코드를 작성하세요. "
   ]
  },
  {
   "cell_type": "code",
   "execution_count": 25,
   "metadata": {},
   "outputs": [
    {
     "name": "stdout",
     "output_type": "stream",
     "text": [
      "100500\n",
      "100500\n"
     ]
    }
   ],
   "source": [
    "#여기에 코드를 작성하세요1\n",
    "sum_a = 0\n",
    "for i in range(1001):\n",
    "    if(i % 5 == 0 ):\n",
    "        sum_a += i\n",
    "print(sum_a)\n",
    "\n",
    "result = 0\n",
    "for i in range(1,1001):\n",
    "    if i % 5 == 0:\n",
    "        result += i\n",
    "print(result)"
   ]
  },
  {
   "cell_type": "markdown",
   "metadata": {},
   "source": [
    "### 문제4\n",
    "\n",
    ">for와 range 함수를 이용하여 2~9단까지 구구단을 출력하는 코드를 작성하세요."
   ]
  },
  {
   "cell_type": "code",
   "execution_count": 32,
   "metadata": {},
   "outputs": [
    {
     "name": "stdout",
     "output_type": "stream",
     "text": [
      "!!!!! 2단 출력 !!!!!!\n",
      "2 X 1 = 2\n",
      "2 X 2 = 4\n",
      "2 X 3 = 6\n",
      "2 X 4 = 8\n",
      "2 X 5 = 10\n",
      "2 X 6 = 12\n",
      "2 X 7 = 14\n",
      "2 X 8 = 16\n",
      "2 X 9 = 18\n",
      "\n",
      "!!!!! 3단 출력 !!!!!!\n",
      "3 X 1 = 3\n",
      "3 X 2 = 6\n",
      "3 X 3 = 9\n",
      "3 X 4 = 12\n",
      "3 X 5 = 15\n",
      "3 X 6 = 18\n",
      "3 X 7 = 21\n",
      "3 X 8 = 24\n",
      "3 X 9 = 27\n",
      "\n",
      "!!!!! 4단 출력 !!!!!!\n",
      "4 X 1 = 4\n",
      "4 X 2 = 8\n",
      "4 X 3 = 12\n",
      "4 X 4 = 16\n",
      "4 X 5 = 20\n",
      "4 X 6 = 24\n",
      "4 X 7 = 28\n",
      "4 X 8 = 32\n",
      "4 X 9 = 36\n",
      "\n",
      "!!!!! 5단 출력 !!!!!!\n",
      "5 X 1 = 5\n",
      "5 X 2 = 10\n",
      "5 X 3 = 15\n",
      "5 X 4 = 20\n",
      "5 X 5 = 25\n",
      "5 X 6 = 30\n",
      "5 X 7 = 35\n",
      "5 X 8 = 40\n",
      "5 X 9 = 45\n",
      "\n",
      "!!!!! 6단 출력 !!!!!!\n",
      "6 X 1 = 6\n",
      "6 X 2 = 12\n",
      "6 X 3 = 18\n",
      "6 X 4 = 24\n",
      "6 X 5 = 30\n",
      "6 X 6 = 36\n",
      "6 X 7 = 42\n",
      "6 X 8 = 48\n",
      "6 X 9 = 54\n",
      "\n",
      "!!!!! 7단 출력 !!!!!!\n",
      "7 X 1 = 7\n",
      "7 X 2 = 14\n",
      "7 X 3 = 21\n",
      "7 X 4 = 28\n",
      "7 X 5 = 35\n",
      "7 X 6 = 42\n",
      "7 X 7 = 49\n",
      "7 X 8 = 56\n",
      "7 X 9 = 63\n",
      "\n",
      "!!!!! 8단 출력 !!!!!!\n",
      "8 X 1 = 8\n",
      "8 X 2 = 16\n",
      "8 X 3 = 24\n",
      "8 X 4 = 32\n",
      "8 X 5 = 40\n",
      "8 X 6 = 48\n",
      "8 X 7 = 56\n",
      "8 X 8 = 64\n",
      "8 X 9 = 72\n",
      "\n",
      "!!!!! 9단 출력 !!!!!!\n",
      "9 X 1 = 9\n",
      "9 X 2 = 18\n",
      "9 X 3 = 27\n",
      "9 X 4 = 36\n",
      "9 X 5 = 45\n",
      "9 X 6 = 54\n",
      "9 X 7 = 63\n",
      "9 X 8 = 72\n",
      "9 X 9 = 81\n",
      "\n"
     ]
    }
   ],
   "source": [
    "#여기에 코드를 작성하세요.\n",
    "for i in range(2,10):\n",
    "    print(\"!!!!! {}단 출력 !!!!!!\".format(i))\n",
    "    for j in range(1,10):\n",
    "        print(\"{} X {} = {}\".format(i, j, (i*j) ))\n",
    "        #print(f'{i} * {j} = {i*j}')\n",
    "    print(\"\")    "
   ]
  },
  {
   "cell_type": "markdown",
   "metadata": {},
   "source": [
    "### 문제5\n",
    "\n",
    "> 1부터 100까지 자연수를 각각 제곱해 더한 값인 '제곱의 합'과 1부터 100을 먼저 더한 다음에 그 결과를 제곱한 '합의 제곱'의 차이를 구하는 코드를 작성하세요."
   ]
  },
  {
   "cell_type": "code",
   "execution_count": 1,
   "metadata": {},
   "outputs": [
    {
     "name": "stdout",
     "output_type": "stream",
     "text": [
      "25164150\n",
      "25164150\n",
      "25164150\n"
     ]
    }
   ],
   "source": [
    "#여기에 코드를 작성하세요.\n",
    "# 1\n",
    "sum_a = 0\n",
    "sum_b = 0\n",
    "\n",
    "for i in range(101):\n",
    "    a = i ** 2 \n",
    "    sum_a += a\n",
    "    \n",
    "for i in range(101):\n",
    "    sum_b += i\n",
    "    \n",
    "print((sum_b ** 2)-sum_a)\n",
    "\n",
    "# 2 \n",
    "sum1 = 0\n",
    "sum2 = 0\n",
    "\n",
    "for i in range(1,101):\n",
    "    sum1 += i\n",
    "sum1 = sum1 ** 2\n",
    "\n",
    "for i in range(1,101):\n",
    "    sum2 += i ** 2\n",
    "\n",
    "print(sum1 - sum2)\n",
    "\n",
    "# 3\n",
    "sum1 = 0\n",
    "sum2 = 0\n",
    "\n",
    "for i in range(1,101):\n",
    "    sum1 += i\n",
    "    sum2 += i ** 2\n",
    "sum1 = sum1 ** 2\n",
    "\n",
    "print(sum1 - sum2)\n",
    "\n"
   ]
  },
  {
   "cell_type": "code",
   "execution_count": 20,
   "metadata": {
    "scrolled": true
   },
   "outputs": [
    {
     "name": "stdout",
     "output_type": "stream",
     "text": [
      "****\n",
      "****\n",
      "****\n",
      "****\n",
      "****\n",
      "****\n",
      "****\n",
      "****\n",
      "****\n",
      "\n"
     ]
    }
   ],
   "source": [
    "a = '*'* 4 + '\\n'\n",
    "print(a*9) "
   ]
  },
  {
   "cell_type": "code",
   "execution_count": 32,
   "metadata": {},
   "outputs": [
    {
     "name": "stdout",
     "output_type": "stream",
     "text": [
      "87.75\n"
     ]
    }
   ],
   "source": [
    "student = {'python' : 80, 'algorithm' : 99, 'django' : 89, 'flask' : 83}\n",
    "sum1 = 0 \n",
    "for i in student:\n",
    "    sum1 += student[i]\n",
    "print(sum1/len(student))"
   ]
  },
  {
   "cell_type": "code",
   "execution_count": 3,
   "metadata": {},
   "outputs": [
    {
     "name": "stdout",
     "output_type": "stream",
     "text": [
      "A : 3명 \n",
      "B : 3명\n",
      "AB : 3명\n",
      "C : 3명\n",
      "\n"
     ]
    }
   ],
   "source": [
    "blood_types = ['A','B','A','O','AB','AB','O','A','B','O','B','AB']\n",
    "print(\"A : {}명 \\nB : {}명\\nAB : {}명\\nC : {}명\\n\".format(blood_types.count('A'),blood_types.count('B'),blood_types.count('AB'),blood_types.count('O')))\n",
    "        "
   ]
  },
  {
   "cell_type": "code",
   "execution_count": 3,
   "metadata": {},
   "outputs": [
    {
     "name": "stdout",
     "output_type": "stream",
     "text": [
      "4\n",
      "3\n",
      "2\n"
     ]
    }
   ],
   "source": [
    "for i in range(4,1,-1):\n",
    "    print (i)"
   ]
  }
 ],
 "metadata": {
  "kernelspec": {
   "display_name": "Python 3",
   "language": "python",
   "name": "python3"
  },
  "language_info": {
   "codemirror_mode": {
    "name": "ipython",
    "version": 3
   },
   "file_extension": ".py",
   "mimetype": "text/x-python",
   "name": "python",
   "nbconvert_exporter": "python",
   "pygments_lexer": "ipython3",
   "version": "3.6.7"
  }
 },
 "nbformat": 4,
 "nbformat_minor": 2
}
