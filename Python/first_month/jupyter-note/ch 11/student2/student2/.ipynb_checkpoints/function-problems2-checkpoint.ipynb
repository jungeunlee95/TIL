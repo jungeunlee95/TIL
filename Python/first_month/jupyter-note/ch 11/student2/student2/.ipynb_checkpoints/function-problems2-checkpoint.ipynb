{
 "cells": [
  {
   "cell_type": "markdown",
   "metadata": {},
   "source": [
    "## Function-Problems2"
   ]
  },
  {
   "cell_type": "markdown",
   "metadata": {},
   "source": [
    "### 문제1\n",
    "\n",
    "> 단어의 가운데 글자를 반환하는 함수, solution을 만들어 보세요. 단어의 길이가 짝수라면 가운데 두글자를 반환하면 됩니다."
   ]
  },
  {
   "cell_type": "code",
   "execution_count": 42,
   "metadata": {},
   "outputs": [
    {
     "name": "stdout",
     "output_type": "stream",
     "text": [
      "c\n",
      "cc\n",
      "v\n",
      "vv\n",
      "r\n",
      "rr\n"
     ]
    }
   ],
   "source": [
    "# 1\n",
    "def middle_word(a):\n",
    "    if len(a) % 2 == 0:\n",
    "        i = len(a) // 2\n",
    "        return a[i-1:i+1]\n",
    "    else:\n",
    "        return a[len(a)//2]\n",
    "    \n",
    "print(middle_word(\"abcde\"))\n",
    "print(middle_word(\"abcced\"))\n",
    "\n",
    "# 2\n",
    "def solution(str):\n",
    "    if len(str) % 2 :\n",
    "        return str[len(str) // 2]\n",
    "    else :\n",
    "        return str[(len(str) // 2) -1 : (len(str) // 2) + 1]\n",
    "    \n",
    "print(solution(\"aavaa\"))   \n",
    "print(solution(\"avva\"))   \n",
    "\n",
    "# 3\n",
    "def solution2(str):\n",
    "    return str[(len(str) -1) // 2 : (len(str) // 2 + 1)]\n",
    "print(solution2(\"aaraa\"))   \n",
    "print(solution2(\"arra\"))   "
   ]
  },
  {
   "cell_type": "markdown",
   "metadata": {},
   "source": [
    "### 문제2\n",
    "\n",
    ">리스트의 각 요소중 특정 정수로 나누어 떨어지는 값을 오름차순으로 정렬한 배열을 반환하는 함수 solution을 작성해주세요. 특정 정수로 나누어 떨어지는 요소가 하나도 없다면 리스트에 -1을 담아 반환하면 됩니다.\n",
    "\n",
    ">Example\n",
    "- solution([1, 2, 3, 4, 5, 6, 7], 2) ==> [2, 4, 6]\n",
    "-  [[리스트], 특정 정수]"
   ]
  },
  {
   "cell_type": "code",
   "execution_count": 63,
   "metadata": {},
   "outputs": [
    {
     "name": "stdout",
     "output_type": "stream",
     "text": [
      "[2, 4, 6, 8]\n"
     ]
    }
   ],
   "source": [
    "#여기에 코드를 작성하세요\n",
    "# 1\n",
    "def solution(a, b):\n",
    "    result = []\n",
    "    for i in a:\n",
    "        if i % b == 0 :\n",
    "            result.append(i)\n",
    "            result.sort()\n",
    "    if result == [] :\n",
    "        result.append(-1)\n",
    "    return result\n",
    "\n",
    "print(solution([8,1,2,3,4,5,6,7],2))\n",
    "\n"
   ]
  },
  {
   "cell_type": "markdown",
   "metadata": {},
   "source": [
    "### 문제3\n",
    "\n",
    ">두 정수 a, b가 주어졌을 때 a와 b 사이에 속한 모든 정수의 합을 리턴하는 함수, solution을 완성하세요. 예를 들어 a = 3, b = 5인 경우, 3 + 4 + 5 = 12이므로 12를 리턴합니다.  (a와 b를 모두 포함해야 합니다)"
   ]
  },
  {
   "cell_type": "code",
   "execution_count": 3,
   "metadata": {},
   "outputs": [
    {
     "name": "stdout",
     "output_type": "stream",
     "text": [
      "7\n",
      "7\n"
     ]
    }
   ],
   "source": [
    "# 여기에 코드를 작성하세요\n",
    "# 1\n",
    "def solution(a, b):\n",
    "    result = 0\n",
    "    if a > b :\n",
    "        for i in range(b, a+1):\n",
    "            result += i\n",
    "    else :\n",
    "        for i in range(a, b+1):\n",
    "            result += i\n",
    "    return result\n",
    "\n",
    "print(solution(3, 4))\n",
    "\n",
    "# 2\n",
    "def solution2(a, b):\n",
    "    if a == b :\n",
    "        return a\n",
    "    elif a < b :\n",
    "        return sum(list(range(a, b+1)))\n",
    "    else:\n",
    "        return sum(list(range(b, a+1)))\n",
    "    \n",
    "print(solution2(3, 4))\n",
    "\n"
   ]
  },
  {
   "cell_type": "markdown",
   "metadata": {},
   "source": [
    "### 문제4\n",
    "\n",
    ">문자열 s의 길이가 4혹은 6이고, 숫자로만 구성되어있는지 확인해주는 함수, solution을 완성하세요.예를들어, s가 \"a234\"이면 False를 리턴하고 \"1234\"라면 True를 리턴하면 됩니다.\n",
    "\n",
    ">Hint : isdigit() 내장 메서드를 통해 숫자가 들어있는지 여부를 확인할 수 있습니다."
   ]
  },
  {
   "cell_type": "code",
   "execution_count": 8,
   "metadata": {},
   "outputs": [
    {
     "name": "stdout",
     "output_type": "stream",
     "text": [
      "False\n",
      "False\n",
      "True\n"
     ]
    }
   ],
   "source": [
    "# 여기에 코드를 작성하세요\n",
    "# 1\n",
    "def solution(s):\n",
    "    if(len(s)==4 or len(s)==6):\n",
    "        if(s.isdigit()):\n",
    "            return \"True\"\n",
    "        else:\n",
    "            return \"False\"\n",
    "    else:\n",
    "        return \"False\"\n",
    "\n",
    "# 2\n",
    "def solution2(s):\n",
    "    return s.isdigit() and (len(s) == 4 or len(s) == 6) \n",
    "\n",
    "        \n",
    "    \n"
   ]
  },
  {
   "cell_type": "markdown",
   "metadata": {},
   "source": [
    "### 문제5\n",
    "\n",
    ">자연수 n을 입력받아 n의 약수를 모두 더한 값을 리턴하는 함수, solution을 완성해주세요. \n",
    "\n",
    ">제한 조건: n은 0이상 3000이하인 자연수입니다."
   ]
  },
  {
   "cell_type": "code",
   "execution_count": 18,
   "metadata": {},
   "outputs": [
    {
     "name": "stdout",
     "output_type": "stream",
     "text": [
      "0<= x <= 3000의 자연수를 입력하세요3030203\n",
      "0<= x <= 3000사이의 자연수를 입력!!!!32030203\n",
      "0<= x <= 3000사이의 자연수를 입력!!!!32030230\n",
      "0<= x <= 3000사이의 자연수를 입력!!!!-1\n",
      "0<= x <= 3000사이의 자연수를 입력!!!!-2\n",
      "0<= x <= 3000사이의 자연수를 입력!!!!-3\n",
      "0<= x <= 3000사이의 자연수를 입력!!!!33\n",
      "48\n"
     ]
    }
   ],
   "source": [
    "#### 여기에 코드를 작성하세요\n",
    "num = int(input(\"0<= x <= 3000의 자연수를 입력하세요\"))\n",
    "\n",
    "if(num <0 or num > 3000):\n",
    "    while(num<=0 or num >= 3000):\n",
    "        num = int(input(\"0<= x <= 3000사이의 자연수를 입력!!!!\"))\n",
    "    \n",
    "def solution(num):\n",
    "    sum1 = 0 \n",
    "    for i in range(1, num+1):\n",
    "        if num % i == 0 :\n",
    "            sum1 += i\n",
    "        else : \n",
    "            continue\n",
    "    return sum1\n",
    "print(solution(num))\n"
   ]
  }
 ],
 "metadata": {
  "kernelspec": {
   "display_name": "Python 3",
   "language": "python",
   "name": "python3"
  },
  "language_info": {
   "codemirror_mode": {
    "name": "ipython",
    "version": 3
   },
   "file_extension": ".py",
   "mimetype": "text/x-python",
   "name": "python",
   "nbconvert_exporter": "python",
   "pygments_lexer": "ipython3",
   "version": "3.6.7"
  }
 },
 "nbformat": 4,
 "nbformat_minor": 2
}
