{
 "cells": [
  {
   "cell_type": "markdown",
   "metadata": {},
   "source": [
    "## Function-Problems3"
   ]
  },
  {
   "cell_type": "markdown",
   "metadata": {},
   "source": [
    "### 문제1\n",
    "\n",
    ">자연수 N이 주어지면, N의 각 자릿수의 합을 구해서 return 하는 solution 함수를 만들어 주세요.  예를들어, N=123이면 1+2+3=6을 return 하면 됩니다."
   ]
  },
  {
   "cell_type": "code",
   "execution_count": 1,
   "metadata": {},
   "outputs": [
    {
     "name": "stdout",
     "output_type": "stream",
     "text": [
      "6\n",
      "6\n",
      "12\n"
     ]
    }
   ],
   "source": [
    "# 여기에 코드를 작성하세요\n",
    "# 1\n",
    "def solution(n):\n",
    "    n = str(n)\n",
    "    sum1 = 0\n",
    "    for i in range(0, len(n)):\n",
    "        sum1 += int(n[i])\n",
    "    return sum1\n",
    "print(solution(123))\n",
    "\n",
    "# 2\n",
    "def solution2(n):\n",
    "    return sum([int(i) for i in str(n)])\n",
    "print(solution(123))\n",
    "\n",
    "a = sum([int(i) for i in '345'])\n",
    "print(a)"
   ]
  },
  {
   "cell_type": "markdown",
   "metadata": {},
   "source": [
    "### 문제2\n",
    "\n",
    ">자연수 n을 뒤집어 각 자리 숫자를 원소로 가지는 배열 형태로 리턴해주세요.  예를 들어, n이 12345이면 [5, 4, 3, 2, 1]을 리턴합니다. \n"
   ]
  },
  {
   "cell_type": "code",
   "execution_count": 44,
   "metadata": {},
   "outputs": [
    {
     "name": "stdout",
     "output_type": "stream",
     "text": [
      "[5, 4, 3, 2, 1]\n",
      "[5, 4, 3, 2, 1]\n",
      "[5, 4, 3, 2, 1]\n",
      "[5, 4, 3, 2, 1]\n"
     ]
    }
   ],
   "source": [
    "# 여기에 코드를 작성하세요\n",
    "# 1\n",
    "def solution(n):\n",
    "    nums = []\n",
    "    for i in range(0, len(str(n))):\n",
    "        nums.append(int(str(n)[i]))\n",
    "    return nums[::-1]\n",
    "    \n",
    "print(solution(12345))\n",
    "\n",
    "# 2\n",
    "def solution2(n):\n",
    "    list_a = [int(i) for i in str(n)]\n",
    "    list_a.reverse()\n",
    "    return list_a\n",
    "\n",
    "print(solution2(12345))\n",
    "\n",
    "# 3\n",
    "def solution3(n):\n",
    "    return [int(i) for i in str(n)][::-1]\n",
    "\n",
    "print(solution3(12345))\n",
    "\n",
    "# 4\n",
    "def solution4(n):\n",
    "    return list(map(int, reversed(str(n))))\n",
    "\n",
    "print(solution4(12345))"
   ]
  },
  {
   "cell_type": "markdown",
   "metadata": {},
   "source": [
    "### 문제3\n",
    "\n",
    ">정수를 저장한 배열, arr 에서 가장 작은 수를 제거한 배열을 리턴하는 함수, solution을 완성해주세요."
   ]
  },
  {
   "cell_type": "code",
   "execution_count": 73,
   "metadata": {},
   "outputs": [
    {
     "name": "stdout",
     "output_type": "stream",
     "text": [
      "[2, 3, 4]\n",
      "[5, 6, 2, 4]\n"
     ]
    }
   ],
   "source": [
    "# 여기에 코드를 작성해주세요.\n",
    "# 1\n",
    "def solution(nums):\n",
    "    nums = list(set(nums))\n",
    "    nums.remove(min(nums))\n",
    "    nums.sort()\n",
    "    return nums\n",
    "print(solution([4,3,2,1,1]))\n",
    "\n",
    "# 3\n",
    "def solution2(nums):\n",
    "    return list(filter(lambda x: x > min(nums), nums))\n",
    "print(solution2([5,6,2,4,1]))"
   ]
  },
  {
   "cell_type": "markdown",
   "metadata": {},
   "source": [
    "### 문제4\n",
    "\n",
    ">정수 num이 짝수일 경우 \"Even\"을 반환하고 홀수인 경우 \"Odd\"를 반환하는 함수, solution을 완성해주세요"
   ]
  },
  {
   "cell_type": "code",
   "execution_count": 80,
   "metadata": {},
   "outputs": [
    {
     "name": "stdout",
     "output_type": "stream",
     "text": [
      "Even\n",
      "Odd\n"
     ]
    }
   ],
   "source": [
    "# 여기에 코드를 작성해주세요\n",
    "# 1\n",
    "def solution(num):\n",
    "    if num % 2 == 0:\n",
    "        return \"Even\"\n",
    "    else :\n",
    "        return \"Odd\"\n",
    "print(solution(2))\n",
    "\n",
    "# 2\n",
    "def solution2(num):\n",
    "    return \"Even\" if num%2==0 else \"Odd\"\n",
    "print(solution2(1))"
   ]
  },
  {
   "cell_type": "markdown",
   "metadata": {},
   "source": [
    "### 문제5\n",
    "\n",
    ">양의 정수 x가 하샤드 수이려면 x의 자릿수의 합으로 x가 나누어져야 합니다. 자연수 n을 입력받아 n이 하샤드 수인지 아닌지 검사하는 함수, solution을 완성해주세요.\n",
    "\n",
    ">예를 들어 18의 자릿수 합은 1+8=9이고, 18은 9로 나누어 떨어지므로 18은 하샤드 수입니다. "
   ]
  },
  {
   "cell_type": "code",
   "execution_count": 103,
   "metadata": {},
   "outputs": [
    {
     "name": "stdout",
     "output_type": "stream",
     "text": [
      "False\n",
      "True\n",
      "False\n",
      "True\n"
     ]
    }
   ],
   "source": [
    "# 여기에 코드를 작성해주세요.\n",
    "# 1\n",
    "def solution(n):\n",
    "    a = str(n)[0]\n",
    "    b = str(n)[1]\n",
    "    if(n % (int(a)+int(b)) == 0):\n",
    "        return True\n",
    "    else :\n",
    "        return False\n",
    "print(solution(32))\n",
    "\n",
    "# 2 \n",
    "def solution2(n):\n",
    "    return True if (n % (int(str(n)[0]) + int(str(n)[1]))) == 0 else False \n",
    "print(solution2(18))\n",
    "\n",
    "# 3\n",
    "def solution3(x):\n",
    "    sum1 = 0\n",
    "    for i in str(x):\n",
    "        sum1 += int(i)\n",
    "    return False if x % sum1 else True\n",
    "print(solution3(19))\n",
    "\n",
    "# 4\n",
    "def solution4(x):\n",
    "    return x % sum(int(x) for x in str(x) ) == 0\n",
    "print(solution4(30))\n",
    "\n"
   ]
  }
 ],
 "metadata": {
  "kernelspec": {
   "display_name": "Python 3",
   "language": "python",
   "name": "python3"
  },
  "language_info": {
   "codemirror_mode": {
    "name": "ipython",
    "version": 3
   },
   "file_extension": ".py",
   "mimetype": "text/x-python",
   "name": "python",
   "nbconvert_exporter": "python",
   "pygments_lexer": "ipython3",
   "version": "3.6.7"
  }
 },
 "nbformat": 4,
 "nbformat_minor": 2
}
