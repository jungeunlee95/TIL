{
 "cells": [
  {
   "cell_type": "markdown",
   "metadata": {},
   "source": [
    "## Function-Problems4"
   ]
  },
  {
   "cell_type": "markdown",
   "metadata": {},
   "source": [
    "### 문제1\n",
    "\n",
    ">OOO 모바일은 개인정보 보호를 위해 고지서를 보낼 때 고객들의 전화번호의 일부를 가립니다. 전화번호가 문자열 phone_number로 주어졌을 때, 전화번호의 뒷 4자리를 제외한 나머지 숫자를 전부 *으로 가린 문자열을 리턴하는 함수, solution을 완성해주세요."
   ]
  },
  {
   "cell_type": "code",
   "execution_count": 19,
   "metadata": {},
   "outputs": [
    {
     "name": "stdout",
     "output_type": "stream",
     "text": [
      "*** - **** - 2222\n",
      "********2222\n"
     ]
    }
   ],
   "source": [
    "# 여기에 코드를 작성해주세요\n",
    "# 1\n",
    "def solution(p_num):\n",
    "    return \"*** - **** - \"+ p_num.split('-')[2]\n",
    "print(solution(\"010-1111-2222\"))\n",
    "\n",
    "# 1\n",
    "def solution2(p_num):\n",
    "    return \"*\" * 8 +p_num[-4:]\n",
    "print(solution2(\"01011112222\"))\n",
    "\n"
   ]
  },
  {
   "cell_type": "markdown",
   "metadata": {},
   "source": [
    "### 문제2\n",
    "\n",
    ">문자열이 주어지면, 각 문자(대소문자 구분)를 한번씩 반복하여 문자열을 반환하는 함수를 작성하세요.\n",
    "\n",
    ">예시\n",
    "- double_char(\"String\") ==> \"SSttrriinngg\"\n",
    "- double_char(\"Hello World\") ==> \"HHeelllloo  WWoorrlldd\"\n",
    "- double_char(\"1234!_ \") ==> \"11223344!!__  \""
   ]
  },
  {
   "cell_type": "code",
   "execution_count": 22,
   "metadata": {},
   "outputs": [
    {
     "name": "stdout",
     "output_type": "stream",
     "text": [
      "11223344!!__  \n",
      "HHeelllloo  WWoorrlldd\n",
      "ssttrriinngg\n"
     ]
    }
   ],
   "source": [
    "# 1\n",
    "def double_char(word):\n",
    "    result = \"\"\n",
    "    for i in range(0, len(word)):\n",
    "        result += word[i]*2\n",
    "    return result\n",
    "    \n",
    "print(double_char(\"1234!_ \"))\n",
    "\n",
    "# 3\n",
    "def double_char2(word):\n",
    "    res = \"\"\n",
    "    for s in word:\n",
    "        res += s * 2\n",
    "    return res\n",
    "print(double_char2(\"Hello World\"))\n",
    "\n",
    "# 3\n",
    "\n",
    "def double_char3(word):\n",
    "    return ''.join(s * 2 for s in word)\n",
    "print(double_char3(\"string\"))"
   ]
  },
  {
   "cell_type": "markdown",
   "metadata": {},
   "source": [
    "### 문제3\n",
    "\n",
    ">크기를 가지고 1과 0을 번갈아 나타내는 stringy 함수를 작성하고자 합니다. \n",
    "\n",
    "> 조건 및 출력예시\n",
    "- 문자열은 반드시 1부터 시작해야 합니다. \n",
    "- 스트링의 크기는 항상 양수이며 정수만 사용합니다.\n",
    "- 스트링의 크기(size)가 6이면 '101010'을 반환합니다.\n",
    "- 스트링의 크기(size)가 4이면 '1010'을 반환합니다. \n",
    "- 스트링의 크기(size)가 12이면 '101010101010'을 반환합니다. "
   ]
  },
  {
   "cell_type": "code",
   "execution_count": 2,
   "metadata": {},
   "outputs": [
    {
     "name": "stdout",
     "output_type": "stream",
     "text": [
      "101010101010\n",
      "101\n",
      "101010\n"
     ]
    }
   ],
   "source": [
    "# 1  \n",
    "def stringy(num):\n",
    "    result = \"10\" * num\n",
    "    return result[:num]\n",
    "\n",
    "print(stringy(12))\n",
    "\n",
    "# 2\n",
    "def stringy2(num):\n",
    "    return '10' * int(num/2) + '1' * (num%2)\n",
    "print(stringy2(3))\n",
    "\n",
    "# 3\n",
    "def stringy3(num):\n",
    "    return ''.join([str(i%2) for i in range(1,num +1)])\n",
    "print(stringy3(6))\n"
   ]
  },
  {
   "cell_type": "markdown",
   "metadata": {},
   "source": [
    "### 문제4\n",
    "\n",
    "> 당신이 일하는 회사는 지불 시스템을 개발하는 계약을 맺었습니다. 당신의 임무는 금액(실수)을 달러와 센트의 문자열 서식으로 반환하는 함수를 개발하는 일입니다. 0이 누락 경우에 뒤에 0을 추가해야 합니다.\n",
    "\n",
    ">예시\n",
    "- 3 -> $3.00 \n"
   ]
  },
  {
   "cell_type": "code",
   "execution_count": 41,
   "metadata": {},
   "outputs": [
    {
     "name": "stdout",
     "output_type": "stream",
     "text": [
      "$3.00\n",
      "$4.00\n"
     ]
    }
   ],
   "source": [
    "# 1\n",
    "def solution(num):\n",
    "    return f'${num:0.2f}'\n",
    "print(solution(3))\n",
    "\n",
    "# 2\n",
    "def solution2(num):\n",
    "    return '${:.2f}'.format(num)\n",
    "print(solution2(4))"
   ]
  },
  {
   "cell_type": "markdown",
   "metadata": {},
   "source": [
    "### 문제5\n",
    "\n",
    "> 1세기는 1년~100년까지, 2세기는 101년에서 200년까지를 포함합니다. 주어진 연도 값에서, 세기를 반환하는 함수를 작성하세요. "
   ]
  },
  {
   "cell_type": "code",
   "execution_count": 3,
   "metadata": {},
   "outputs": [
    {
     "name": "stdout",
     "output_type": "stream",
     "text": [
      "2세기\n",
      "20 세기\n"
     ]
    }
   ],
   "source": [
    "# 여기에 코드를 작성하세요\n",
    "# 1\n",
    "def solution(year):\n",
    "    return str((year-1)//100 +1)+\"세기\"\n",
    "print(solution(101))\n",
    "\n",
    "# 2\n",
    "def solution2(year):\n",
    "    return(year + 99) // 100\n",
    "print(solution2(2000),\"세기\")\n"
   ]
  }
 ],
 "metadata": {
  "kernelspec": {
   "display_name": "Python 3",
   "language": "python",
   "name": "python3"
  },
  "language_info": {
   "codemirror_mode": {
    "name": "ipython",
    "version": 3
   },
   "file_extension": ".py",
   "mimetype": "text/x-python",
   "name": "python",
   "nbconvert_exporter": "python",
   "pygments_lexer": "ipython3",
   "version": "3.6.7"
  }
 },
 "nbformat": 4,
 "nbformat_minor": 2
}
