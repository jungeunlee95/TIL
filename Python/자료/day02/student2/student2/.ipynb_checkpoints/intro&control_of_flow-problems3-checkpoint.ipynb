{
 "cells": [
  {
   "cell_type": "markdown",
   "metadata": {},
   "source": [
    "## Intro&Control_of_flow-문제3\n"
   ]
  },
  {
   "cell_type": "markdown",
   "metadata": {},
   "source": [
    "### 문제1\n",
    "\n",
    ">다음 소스 코드를 완성하여 1부터 100까지의 숫자를 출력하면서 2의 배수일 때는 'Fizz', 11의 배수일 때는 'Buzz', 2와 11의 공배수일 때는 'FizzBuzz'가 출력되게 만드세요."
   ]
  },
  {
   "cell_type": "code",
   "execution_count": 3,
   "metadata": {},
   "outputs": [
    {
     "name": "stdout",
     "output_type": "stream",
     "text": [
      "1\n",
      "2 Fizz\n",
      "3\n",
      "4 Fizz\n",
      "5\n",
      "6 Fizz\n",
      "7\n",
      "8 Fizz\n",
      "9\n",
      "10 Fizz\n",
      "11 Buzz\n",
      "12 Fizz\n",
      "13\n",
      "14 Fizz\n",
      "15\n",
      "16 Fizz\n",
      "17\n",
      "18 Fizz\n",
      "19\n",
      "20 Fizz\n",
      "21\n",
      "22 FizzBuzz\n",
      "23\n",
      "24 Fizz\n",
      "25\n",
      "26 Fizz\n",
      "27\n",
      "28 Fizz\n",
      "29\n",
      "30 Fizz\n",
      "31\n",
      "32 Fizz\n",
      "33 Buzz\n",
      "34 Fizz\n",
      "35\n",
      "36 Fizz\n",
      "37\n",
      "38 Fizz\n",
      "39\n",
      "40 Fizz\n",
      "41\n",
      "42 Fizz\n",
      "43\n",
      "44 FizzBuzz\n",
      "45\n",
      "46 Fizz\n",
      "47\n",
      "48 Fizz\n",
      "49\n",
      "50 Fizz\n",
      "51\n",
      "52 Fizz\n",
      "53\n",
      "54 Fizz\n",
      "55 Buzz\n",
      "56 Fizz\n",
      "57\n",
      "58 Fizz\n",
      "59\n",
      "60 Fizz\n",
      "61\n",
      "62 Fizz\n",
      "63\n",
      "64 Fizz\n",
      "65\n",
      "66 FizzBuzz\n",
      "67\n",
      "68 Fizz\n",
      "69\n",
      "70 Fizz\n",
      "71\n",
      "72 Fizz\n",
      "73\n",
      "74 Fizz\n",
      "75\n",
      "76 Fizz\n",
      "77 Buzz\n",
      "78 Fizz\n",
      "79\n",
      "80 Fizz\n",
      "81\n",
      "82 Fizz\n",
      "83\n",
      "84 Fizz\n",
      "85\n",
      "86 Fizz\n",
      "87\n",
      "88 FizzBuzz\n",
      "89\n",
      "90 Fizz\n",
      "91\n",
      "92 Fizz\n",
      "93\n",
      "94 Fizz\n",
      "95\n",
      "96 Fizz\n",
      "97\n",
      "98 Fizz\n",
      "99 Buzz\n",
      "100 Fizz\n"
     ]
    }
   ],
   "source": [
    "#여기에 코드를 작성하세요.\n",
    "for i in range(1,101):\n",
    "    if(i%2==0 and i%11 ==0):\n",
    "        print(i , \"FizzBuzz\")\n",
    "    elif(i%2==0):\n",
    "        print(i , \"Fizz\")\n",
    "    elif(i%11==0):\n",
    "        print(i , \"Buzz\")\n",
    "    else:\n",
    "        print(i)\n"
   ]
  },
  {
   "cell_type": "markdown",
   "metadata": {},
   "source": [
    "### 문제2\n",
    "\n",
    ">사용자로부터 세 개의 숫자를 입력 받은 후 가장 큰 숫자를 출력하세요."
   ]
  },
  {
   "cell_type": "code",
   "execution_count": 24,
   "metadata": {},
   "outputs": [
    {
     "name": "stdout",
     "output_type": "stream",
     "text": [
      "숫자 1 입력하세요 : 343\n",
      "숫자 2 입력하세요 : 242\n",
      "숫자 3 입력하세요 : 525\n",
      "525\n"
     ]
    }
   ],
   "source": [
    "#여기에 코드를 작성하세요.\n",
    "# 1\n",
    "a = input(\"숫자 3개를 입력하세요 : \")\n",
    "b = a.split(' ')\n",
    "print(max(b))\n",
    "\n",
    "# 2\n",
    "num1 = input(\"숫자 1 입력하세요 : \")\n",
    "num2 = input(\"숫자 2 입력하세요 : \")\n",
    "num3 = input(\"숫자 3 입력하세요 : \")\n",
    "\n",
    "if num1 > num2:\n",
    "    max_num = num1\n",
    "else:\n",
    "    max_num = num2\n",
    "\n",
    "if num3 > max_num:\n",
    "    max_num = num3\n",
    "print(max_num)"
   ]
  },
  {
   "cell_type": "markdown",
   "metadata": {},
   "source": [
    "### 문제3\n",
    "\n",
    "> 다음은 학생들의 혈액형(A, B, AB, O)에 대한 데이터입니다. 각 혈액형 별 학생수의 합계를 구하세요."
   ]
  },
  {
   "cell_type": "code",
   "execution_count": 2,
   "metadata": {},
   "outputs": [],
   "source": [
    "blood_types = ['A', 'B', 'A', 'O', 'AB', 'AB', 'O', 'A', 'B', 'O', 'B', 'AB']"
   ]
  },
  {
   "cell_type": "code",
   "execution_count": 20,
   "metadata": {},
   "outputs": [
    {
     "name": "stdout",
     "output_type": "stream",
     "text": [
      "{'A': 3, 'B': 3, 'O': 3, 'AB': 3}\n",
      "{'A': 3, 'B': 3, 'O': 3, 'AB': 3}\n"
     ]
    }
   ],
   "source": [
    "blood_types = ['A', 'B', 'A', 'O', 'AB', 'AB', 'O', 'A', 'B', 'O', 'B', 'AB']\n",
    "\n",
    "result = {}\n",
    "result2 = {}\n",
    "\n",
    "# 1\n",
    "for i in blood_types:\n",
    "    if i in result:\n",
    "        continue\n",
    "    else:    \n",
    "        result[i] = blood_types.count(i)   \n",
    "print(result)\n",
    "\n",
    "# 2\n",
    "for blood_type in blood_types:\n",
    "    if blood_type in result2:\n",
    "        result2[blood_type] += 1\n",
    "    else:\n",
    "        result2[blood_type] = 1\n",
    "print(result2)"
   ]
  },
  {
   "cell_type": "markdown",
   "metadata": {},
   "source": [
    "### 문제4\n",
    "\n",
    ">다음 리스트의 요소값 중에서 중복되는 값만 뽑아서 새로운 리스트로 옮기고 요소의 개수를 출력하세요. \n",
    "\n",
    ">some_lists = ['a', 'b', 'c', 'b', 'd', 'm', 'n', 'n']"
   ]
  },
  {
   "cell_type": "code",
   "execution_count": 31,
   "metadata": {},
   "outputs": [
    {
     "name": "stdout",
     "output_type": "stream",
     "text": [
      "['b', 'n']\n",
      "{'b': 2, 'n': 2}\n",
      "['a', 'b', 'c', 'd', 'm', 'n'] 6\n"
     ]
    }
   ],
   "source": [
    "some_lists = ['a', 'b', 'c', 'b', 'd', 'm', 'n', 'n']\n",
    "\n",
    "# 1 중복된 값만 출력\n",
    "copy_list = []\n",
    "for alpa in some_lists :\n",
    "    if some_lists.count(alpa) > 1:\n",
    "        copy_list.append(alpa)\n",
    "print(list(set(copy_list)))\n",
    "\n",
    "# 2  중복된 값을 따로 뽑아 개수 출력\n",
    "copy_dict2 = {}\n",
    "for alpa in some_lists:\n",
    "    if some_lists.count(alpa) > 1:\n",
    "        copy_dict2[alpa] = some_lists.count(alpa)\n",
    "print(copy_dict2)\n",
    "\n",
    "# 3 중복된 값을 뺀 나머지 리스트, 개수 출력\n",
    "lists = []\n",
    "for some_list in some_lists:\n",
    "    if some_list not in lists:\n",
    "        lists.append(some_list)\n",
    "print(lists, len(lists))"
   ]
  },
  {
   "cell_type": "markdown",
   "metadata": {},
   "source": [
    "### 문제5\n",
    "\n",
    ">표준 입력으로 국어, 영어, 수학, 과학 점수가 입력됩니다. 네 과목의 평균 점수가 80점 이상일 때 합격이라고 정했습니다. 평균 점수에 따라 '합격', '불합격'을 출력하는 프로그램을 만드세요. \n",
    "단, 점수는 0점부터 100점까지만 입력받을 수 있으며 범위를 벗어났다면 '잘못된 점수'를 출력하고 합격, 불합격 여부는 출력하지 않아야 합니다. "
   ]
  },
  {
   "cell_type": "code",
   "execution_count": 37,
   "metadata": {},
   "outputs": [
    {
     "name": "stdout",
     "output_type": "stream",
     "text": [
      "국어, 영어, 수학, 과학 점수 입력 : \n",
      "0.0 불합격!\n",
      "\n"
     ]
    },
    {
     "ename": "ValueError",
     "evalue": "not enough values to unpack (expected 4, got 0)",
     "output_type": "error",
     "traceback": [
      "\u001b[1;31m---------------------------------------------------------------------------\u001b[0m",
      "\u001b[1;31mValueError\u001b[0m                                Traceback (most recent call last)",
      "\u001b[1;32m<ipython-input-37-5a62df080fd8>\u001b[0m in \u001b[0;36m<module>\u001b[1;34m\u001b[0m\n\u001b[0;32m     19\u001b[0m \u001b[1;33m\u001b[0m\u001b[0m\n\u001b[0;32m     20\u001b[0m \u001b[1;31m# 2\u001b[0m\u001b[1;33m\u001b[0m\u001b[1;33m\u001b[0m\u001b[1;33m\u001b[0m\u001b[0m\n\u001b[1;32m---> 21\u001b[1;33m \u001b[0mkor\u001b[0m\u001b[1;33m,\u001b[0m \u001b[0meng\u001b[0m\u001b[1;33m,\u001b[0m \u001b[0mmath\u001b[0m\u001b[1;33m,\u001b[0m \u001b[0msci\u001b[0m \u001b[1;33m=\u001b[0m \u001b[0mmap\u001b[0m\u001b[1;33m(\u001b[0m\u001b[0mint\u001b[0m\u001b[1;33m,\u001b[0m \u001b[0minput\u001b[0m\u001b[1;33m(\u001b[0m\u001b[1;33m)\u001b[0m\u001b[1;33m.\u001b[0m\u001b[0msplit\u001b[0m\u001b[1;33m(\u001b[0m\u001b[1;33m)\u001b[0m\u001b[1;33m)\u001b[0m\u001b[1;33m\u001b[0m\u001b[1;33m\u001b[0m\u001b[0m\n\u001b[0m\u001b[0;32m     22\u001b[0m \u001b[0mavg\u001b[0m \u001b[1;33m=\u001b[0m \u001b[1;33m(\u001b[0m\u001b[0mkor\u001b[0m \u001b[1;33m+\u001b[0m \u001b[0meng\u001b[0m \u001b[1;33m+\u001b[0m \u001b[0mmath\u001b[0m \u001b[1;33m+\u001b[0m \u001b[0msci\u001b[0m\u001b[1;33m)\u001b[0m \u001b[1;33m/\u001b[0m \u001b[1;36m4\u001b[0m\u001b[1;33m\u001b[0m\u001b[1;33m\u001b[0m\u001b[0m\n\u001b[0;32m     23\u001b[0m \u001b[1;33m\u001b[0m\u001b[0m\n",
      "\u001b[1;31mValueError\u001b[0m: not enough values to unpack (expected 4, got 0)"
     ]
    }
   ],
   "source": [
    "# 1\n",
    "scores = input(\"국어, 영어, 수학, 과학 점수 입력 : \")\n",
    "scores_list = scores.split()\n",
    "\n",
    "for i in scores_list:\n",
    "    if(int(i) > 100 ) :\n",
    "        print(\"잘못된 점수입니다\")\n",
    "        break\n",
    "else: \n",
    "    sum1 = 0\n",
    "    for i in scores_list:\n",
    "        sum1 += int(i)\n",
    "    avg = sum1/4\n",
    "\n",
    "    if(avg>79):\n",
    "        print(avg, \"합격!\")\n",
    "    else:\n",
    "        print(avg, \"불합격!\")\n",
    "        \n",
    "# 2\n",
    "kor, eng, math, sci = map(int, input().split())\n",
    "avg = (kor + eng + math + sci) / 4\n",
    "\n",
    "if 0<= kor <=100 and 0<= eng <=100 and 0<= math <=100 and 0<= sci <=100 :\n",
    "    if avg >= 80:\n",
    "        print(\"합격\")\n",
    "    else:\n",
    "        print(\"불합격\")\n",
    "else:\n",
    "    print(\"잘못된 점수\")"
   ]
  }
 ],
 "metadata": {
  "kernelspec": {
   "display_name": "Python 3",
   "language": "python",
   "name": "python3"
  },
  "language_info": {
   "codemirror_mode": {
    "name": "ipython",
    "version": 3
   },
   "file_extension": ".py",
   "mimetype": "text/x-python",
   "name": "python",
   "nbconvert_exporter": "python",
   "pygments_lexer": "ipython3",
   "version": "3.6.7"
  }
 },
 "nbformat": 4,
 "nbformat_minor": 2
}
