{
 "cells": [
  {
   "cell_type": "code",
   "execution_count": 3,
   "metadata": {},
   "outputs": [
    {
     "data": {
      "text/plain": [
       "'안녕하세요. 둘리입니다. 0살 입니다.'"
      ]
     },
     "execution_count": 3,
     "metadata": {},
     "output_type": "execute_result"
    }
   ],
   "source": [
    "class Person:\n",
    "    age = 0\n",
    "    \n",
    "    def __init__(self, name, age=0):\n",
    "        self.name = name\n",
    "        self.age = age\n",
    "        \n",
    "    def greeting(self):\n",
    "        return f'안녕하세요. {self.name}입니다. {self.age}살 입니다.'\n",
    "        \n",
    "        \n",
    "p1 = Person('둘리')\n",
    "p1.greeting()\n",
    "# p2 = Person('홍길동', 20)\n",
    "# p2.greeting()"
   ]
  },
  {
   "cell_type": "code",
   "execution_count": 4,
   "metadata": {},
   "outputs": [
    {
     "name": "stdout",
     "output_type": "stream",
     "text": [
      "28.26\n",
      "18.84\n"
     ]
    }
   ],
   "source": [
    "class Circle:\n",
    "    # 클래스 변수\n",
    "    pi = 3.14\n",
    "    x = 0\n",
    "    y= 0\n",
    "    r = 0\n",
    "    \n",
    "    def __init__(self, x, y, r):\n",
    "        self.x = x\n",
    "        self.y = y\n",
    "        self.r = r\n",
    "        \n",
    "    def area(self):\n",
    "        return round(self.pi * self.r * self.r,2)\n",
    "    \n",
    "    def circumference(self):\n",
    "        return round(2 * self.pi * self.r ,2)\n",
    "    \n",
    "    def center(self):\n",
    "        return (self.x, self.y)\n",
    "    \n",
    "    def move(self,x,y):\n",
    "        self.x = x\n",
    "        self.y = y\n",
    "\n",
    "c1 = Circle(2, 4, 3)\n",
    "print(c1.area())\n",
    "print(c1.circumference())\n",
    "        "
   ]
  }
 ],
 "metadata": {
  "kernelspec": {
   "display_name": "Python 3",
   "language": "python",
   "name": "python3"
  },
  "language_info": {
   "codemirror_mode": {
    "name": "ipython",
    "version": 3
   },
   "file_extension": ".py",
   "mimetype": "text/x-python",
   "name": "python",
   "nbconvert_exporter": "python",
   "pygments_lexer": "ipython3",
   "version": "3.6.7"
  }
 },
 "nbformat": 4,
 "nbformat_minor": 2
}
